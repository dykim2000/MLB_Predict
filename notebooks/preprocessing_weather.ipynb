{
 "cells": [
  {
   "cell_type": "markdown",
   "id": "4e029a19-d096-495e-a549-fd8ef29b2ef4",
   "metadata": {},
   "source": [
    "## Exploring and Processing Weather Data\n",
    "#### Sep 25, 2025\n"
   ]
  },
  {
   "cell_type": "code",
   "execution_count": 235,
   "id": "360cf864-0444-44af-90e9-7d50308341ea",
   "metadata": {},
   "outputs": [],
   "source": [
    "import pandas as pd\n",
    "import matplotlib.pyplot as plt"
   ]
  },
  {
   "cell_type": "code",
   "execution_count": 237,
   "id": "5f9a0b54-1c9a-4cdb-acfb-2fcb70916867",
   "metadata": {},
   "outputs": [],
   "source": [
    "game_logs = pd.read_csv(\"../data/final_game_logs.csv\")"
   ]
  },
  {
   "cell_type": "code",
   "execution_count": 239,
   "id": "73982cc1-0505-4f99-af76-d5674c4b0f81",
   "metadata": {},
   "outputs": [
    {
     "data": {
      "text/plain": [
       "Index(['Unnamed: 0.1', 'Unnamed: 0', 'game_id', 'home_name', 'away_name',\n",
       "       'home_probable_pitcher', 'away_probable_pitcher', 'away_score',\n",
       "       'home_score', 'home_ERA', 'home_ER', 'home_R', 'home_SO', 'home_BB',\n",
       "       'home_SO/BB', 'home_WHIP', 'away_ERA', 'away_ER', 'away_R', 'away_SO',\n",
       "       'away_BB', 'away_SO/BB', 'away_WHIP', 'home_OBP', 'home_SLG', 'home_HR',\n",
       "       'home_R/G', 'home_BB_batting', 'home_SO_batting', 'home_IBB',\n",
       "       'away_home_OBP', 'away_home_SLG', 'away_home_HR', 'away_home_R/G',\n",
       "       'away_home_BB_batting', 'away_home_SO_batting', 'away_home_IBB', 'temp',\n",
       "       'condition', 'wind'],\n",
       "      dtype='object')"
      ]
     },
     "execution_count": 239,
     "metadata": {},
     "output_type": "execute_result"
    }
   ],
   "source": [
    "game_logs.columns"
   ]
  },
  {
   "cell_type": "markdown",
   "id": "da8f242e-e89b-4611-ae41-a57694230a08",
   "metadata": {},
   "source": [
    "#### Converting \"Wind\" Column to Numbers"
   ]
  },
  {
   "cell_type": "code",
   "execution_count": 242,
   "id": "abdae7dd-c66b-49f4-9f54-a4efe496bf38",
   "metadata": {},
   "outputs": [],
   "source": [
    "game_logs[\"wind\"] = game_logs[\"wind\"].str.extract(r\"(\\d+)\").astype(float)"
   ]
  },
  {
   "cell_type": "markdown",
   "id": "d145ee13-6ffa-49ab-b4a3-ddb05aca8222",
   "metadata": {},
   "source": [
    "#### Missing values\n",
    "\n",
    "19 Missing values were found. For the missing values, I filled them with the following :\n",
    "* Temp : Average Temperature\n",
    "* Condition = 7 \"Unknown\"\n",
    "* Wind : Average Wind Speed"
   ]
  },
  {
   "cell_type": "code",
   "execution_count": 245,
   "id": "56e0f29b-fa16-4d76-b66b-52526caba886",
   "metadata": {},
   "outputs": [
    {
     "data": {
      "text/plain": [
       "temp         19\n",
       "condition    19\n",
       "wind         19\n",
       "dtype: int64"
      ]
     },
     "execution_count": 245,
     "metadata": {},
     "output_type": "execute_result"
    }
   ],
   "source": [
    "game_logs[['temp', 'condition', 'wind']].isna().sum()"
   ]
  },
  {
   "cell_type": "code",
   "execution_count": 247,
   "id": "37f8dbc8-7018-4cdc-815f-b06d3cee64e1",
   "metadata": {},
   "outputs": [
    {
     "name": "stderr",
     "output_type": "stream",
     "text": [
      "/var/folders/k2/hmwmh0zn7_39kx03c2fbhh500000gn/T/ipykernel_43845/1505236623.py:1: FutureWarning: A value is trying to be set on a copy of a DataFrame or Series through chained assignment using an inplace method.\n",
      "The behavior will change in pandas 3.0. This inplace method will never work because the intermediate object on which we are setting values always behaves as a copy.\n",
      "\n",
      "For example, when doing 'df[col].method(value, inplace=True)', try using 'df.method({col: value}, inplace=True)' or df[col] = df[col].method(value) instead, to perform the operation inplace on the original object.\n",
      "\n",
      "\n",
      "  game_logs[\"temp\"].fillna(game_logs[\"temp\"].mean(), inplace=True)\n",
      "/var/folders/k2/hmwmh0zn7_39kx03c2fbhh500000gn/T/ipykernel_43845/1505236623.py:2: FutureWarning: A value is trying to be set on a copy of a DataFrame or Series through chained assignment using an inplace method.\n",
      "The behavior will change in pandas 3.0. This inplace method will never work because the intermediate object on which we are setting values always behaves as a copy.\n",
      "\n",
      "For example, when doing 'df[col].method(value, inplace=True)', try using 'df.method({col: value}, inplace=True)' or df[col] = df[col].method(value) instead, to perform the operation inplace on the original object.\n",
      "\n",
      "\n",
      "  game_logs[\"condition\"].fillna(\"Unknown\", inplace=True)\n",
      "/var/folders/k2/hmwmh0zn7_39kx03c2fbhh500000gn/T/ipykernel_43845/1505236623.py:3: FutureWarning: A value is trying to be set on a copy of a DataFrame or Series through chained assignment using an inplace method.\n",
      "The behavior will change in pandas 3.0. This inplace method will never work because the intermediate object on which we are setting values always behaves as a copy.\n",
      "\n",
      "For example, when doing 'df[col].method(value, inplace=True)', try using 'df.method({col: value}, inplace=True)' or df[col] = df[col].method(value) instead, to perform the operation inplace on the original object.\n",
      "\n",
      "\n",
      "  game_logs[\"wind\"].fillna(game_logs[\"wind\"].mean(), inplace=True)\n"
     ]
    }
   ],
   "source": [
    "game_logs[\"temp\"].fillna(game_logs[\"temp\"].mean(), inplace=True)\n",
    "game_logs[\"condition\"].fillna(\"Unknown\", inplace=True)\n",
    "game_logs[\"wind\"].fillna(game_logs[\"wind\"].mean(), inplace=True)"
   ]
  },
  {
   "cell_type": "code",
   "execution_count": 249,
   "id": "795f5c26-50ec-4db9-9c69-e470baf4b1ce",
   "metadata": {},
   "outputs": [
    {
     "data": {
      "text/plain": [
       "temp         0\n",
       "condition    0\n",
       "wind         0\n",
       "dtype: int64"
      ]
     },
     "execution_count": 249,
     "metadata": {},
     "output_type": "execute_result"
    }
   ],
   "source": [
    "game_logs[['temp', 'condition', 'wind']].isna().sum()"
   ]
  },
  {
   "cell_type": "markdown",
   "id": "acb6caca-c5d0-4bfc-ba5d-ae83a1a29b29",
   "metadata": {},
   "source": [
    "#### Distribution Plot of the Weather Data"
   ]
  },
  {
   "cell_type": "code",
   "execution_count": 252,
   "id": "5976c89c-cb42-4fdc-8ba5-a8c240800d71",
   "metadata": {},
   "outputs": [
    {
     "data": {
      "image/png": "[encoded data removed]",
      "text/plain": [
       "<Figure size 1500x500 with 3 Axes>"
      ]
     },
     "metadata": {},
     "output_type": "display_data"
    }
   ],
   "source": [
    "fig, axes = plt.subplots(1, 3, figsize=(15,5))\n",
    "\n",
    "game_logs['temp'].hist(ax=axes[0], bins=20, edgecolor='black')\n",
    "axes[0].set_xlabel(\"Temperature\")\n",
    "axes[0].set_title(\"Distribution of Game Temperatures\")\n",
    "axes[0].set_xlim(30, 110)  # example temp range\n",
    "axes[0].set_xticks(range(30, 111, 10))\n",
    "\n",
    "game_logs['condition'].value_counts().plot(kind='bar', ax=axes[1], edgecolor='black')\n",
    "axes[1].set_xlabel(\"Weather Condition\")\n",
    "axes[1].set_title(\"Distribution of Weather Conditions\")\n",
    "#axes[1].tick_params(axis='x', rotation=45)  # rotate labels if text overlaps\n",
    "\n",
    "game_logs['wind'].hist(ax=axes[2], edgecolor='black')\n",
    "axes[2].set_xlabel(\"mph\")\n",
    "axes[2].set_title(\"Wind\")\n",
    "\n",
    "plt.tight_layout()\n",
    "plt.show()"
   ]
  },
  {
   "cell_type": "markdown",
   "id": "e7e14f0a-e899-42e8-917d-445cc1fe1932",
   "metadata": {},
   "source": [
    "#### Mapping Condition States to Numerical Values"
   ]
  },
  {
   "cell_type": "code",
   "execution_count": 254,
   "id": "a6cb4128-8588-4c54-9c26-6eb2320e0276",
   "metadata": {},
   "outputs": [],
   "source": [
    "condition_map = {\n",
    "    \"Partly Cloudy\": 0,\n",
    "    \"Clear\": 1,\n",
    "    \"Sunny\": 2,\n",
    "    \"Cloudy\": 3,\n",
    "    \"Roof Closed\": 4,\n",
    "    \"Overcast\": 5,\n",
    "    \"Dome\": 6,\n",
    "    \"Drizzle\": 7,\n",
    "    \"Unknown\": 8,\n",
    "    \"Rain\": 9\n",
    "}\n",
    "game_logs[\"condition_code\"] = game_logs[\"condition\"].map(condition_map)"
   ]
  },
  {
   "cell_type": "code",
   "execution_count": 256,
   "id": "d3f70460-790d-461a-9bf0-02658646b0eb",
   "metadata": {},
   "outputs": [
    {
     "data": {
      "text/plain": [
       "condition\n",
       "Partly Cloudy    908\n",
       "Clear            545\n",
       "Sunny            481\n",
       "Cloudy           469\n",
       "Roof Closed      381\n",
       "Overcast         152\n",
       "Dome              89\n",
       "Drizzle           21\n",
       "Unknown           20\n",
       "Rain              14\n",
       "Name: count, dtype: int64"
      ]
     },
     "execution_count": 256,
     "metadata": {},
     "output_type": "execute_result"
    }
   ],
   "source": [
    "game_logs['condition'].value_counts()"
   ]
  },
  {
   "cell_type": "code",
   "execution_count": 258,
   "id": "aa0c9ce0-22c8-42cf-8017-bc8a40fcb75a",
   "metadata": {},
   "outputs": [
    {
     "data": {
      "text/plain": [
       "condition_code\n",
       "0    908\n",
       "1    545\n",
       "2    481\n",
       "3    469\n",
       "4    381\n",
       "5    152\n",
       "6     89\n",
       "7     21\n",
       "8     20\n",
       "9     14\n",
       "Name: count, dtype: int64"
      ]
     },
     "execution_count": 258,
     "metadata": {},
     "output_type": "execute_result"
    }
   ],
   "source": [
    "game_logs['condition_code'].value_counts()"
   ]
  },
  {
   "cell_type": "code",
   "execution_count": 260,
   "id": "907ec708-2f72-47fc-9f61-e5c36c7b9510",
   "metadata": {},
   "outputs": [
    {
     "data": {
      "text/html": [
       "<div>\n",
       "<style scoped>\n",
       "    .dataframe tbody tr th:only-of-type {\n",
       "        vertical-align: middle;\n",
       "    }\n",
       "\n",
       "    .dataframe tbody tr th {\n",
       "        vertical-align: top;\n",
       "    }\n",
       "\n",
       "    .dataframe thead th {\n",
       "        text-align: right;\n",
       "    }\n",
       "</style>\n",
       "<table border=\"1\" class=\"dataframe\">\n",
       "  <thead>\n",
       "    <tr style=\"text-align: right;\">\n",
       "      <th></th>\n",
       "      <th>Unnamed: 0.1</th>\n",
       "      <th>Unnamed: 0</th>\n",
       "      <th>game_id</th>\n",
       "      <th>home_name</th>\n",
       "      <th>away_name</th>\n",
       "      <th>home_probable_pitcher</th>\n",
       "      <th>away_probable_pitcher</th>\n",
       "      <th>away_score</th>\n",
       "      <th>home_score</th>\n",
       "      <th>home_ERA</th>\n",
       "      <th>...</th>\n",
       "      <th>away_home_SLG</th>\n",
       "      <th>away_home_HR</th>\n",
       "      <th>away_home_R/G</th>\n",
       "      <th>away_home_BB_batting</th>\n",
       "      <th>away_home_SO_batting</th>\n",
       "      <th>away_home_IBB</th>\n",
       "      <th>temp</th>\n",
       "      <th>condition</th>\n",
       "      <th>wind</th>\n",
       "      <th>condition_code</th>\n",
       "    </tr>\n",
       "  </thead>\n",
       "  <tbody>\n",
       "    <tr>\n",
       "      <th>0</th>\n",
       "      <td>0</td>\n",
       "      <td>0</td>\n",
       "      <td>748266</td>\n",
       "      <td>San Diego Padres</td>\n",
       "      <td>Los Angeles Dodgers</td>\n",
       "      <td>Joe Musgrove</td>\n",
       "      <td>Gavin Stone</td>\n",
       "      <td>14</td>\n",
       "      <td>1</td>\n",
       "      <td>3.88</td>\n",
       "      <td>...</td>\n",
       "      <td>0.446</td>\n",
       "      <td>233.0</td>\n",
       "      <td>5.20</td>\n",
       "      <td>602.0</td>\n",
       "      <td>1336.0</td>\n",
       "      <td>33.0</td>\n",
       "      <td>71.0</td>\n",
       "      <td>Sunny</td>\n",
       "      <td>3.0</td>\n",
       "      <td>2</td>\n",
       "    </tr>\n",
       "    <tr>\n",
       "      <th>1</th>\n",
       "      <td>1</td>\n",
       "      <td>1</td>\n",
       "      <td>748344</td>\n",
       "      <td>Boston Red Sox</td>\n",
       "      <td>Northeastern Huskies</td>\n",
       "      <td>Helcris Olivárez</td>\n",
       "      <td>Aiven Cabral</td>\n",
       "      <td>2</td>\n",
       "      <td>7</td>\n",
       "      <td>NaN</td>\n",
       "      <td>...</td>\n",
       "      <td>NaN</td>\n",
       "      <td>NaN</td>\n",
       "      <td>NaN</td>\n",
       "      <td>NaN</td>\n",
       "      <td>NaN</td>\n",
       "      <td>NaN</td>\n",
       "      <td>75.0</td>\n",
       "      <td>Partly Cloudy</td>\n",
       "      <td>16.0</td>\n",
       "      <td>0</td>\n",
       "    </tr>\n",
       "    <tr>\n",
       "      <th>2</th>\n",
       "      <td>2</td>\n",
       "      <td>2</td>\n",
       "      <td>748263</td>\n",
       "      <td>Texas Rangers</td>\n",
       "      <td>Kansas City Royals</td>\n",
       "      <td>Dane Dunning</td>\n",
       "      <td>Daniel Lynch IV</td>\n",
       "      <td>4</td>\n",
       "      <td>5</td>\n",
       "      <td>5.31</td>\n",
       "      <td>...</td>\n",
       "      <td>0.403</td>\n",
       "      <td>170.0</td>\n",
       "      <td>4.54</td>\n",
       "      <td>429.0</td>\n",
       "      <td>1161.0</td>\n",
       "      <td>22.0</td>\n",
       "      <td>76.0</td>\n",
       "      <td>Partly Cloudy</td>\n",
       "      <td>9.0</td>\n",
       "      <td>0</td>\n",
       "    </tr>\n",
       "    <tr>\n",
       "      <th>3</th>\n",
       "      <td>3</td>\n",
       "      <td>3</td>\n",
       "      <td>748341</td>\n",
       "      <td>Chicago Cubs</td>\n",
       "      <td>Chicago White Sox</td>\n",
       "      <td>Jordan Wicks</td>\n",
       "      <td>Jesse Chavez</td>\n",
       "      <td>1</td>\n",
       "      <td>8</td>\n",
       "      <td>5.48</td>\n",
       "      <td>...</td>\n",
       "      <td>0.340</td>\n",
       "      <td>133.0</td>\n",
       "      <td>3.13</td>\n",
       "      <td>395.0</td>\n",
       "      <td>1403.0</td>\n",
       "      <td>8.0</td>\n",
       "      <td>75.0</td>\n",
       "      <td>Cloudy</td>\n",
       "      <td>6.0</td>\n",
       "      <td>3</td>\n",
       "    </tr>\n",
       "    <tr>\n",
       "      <th>4</th>\n",
       "      <td>4</td>\n",
       "      <td>4</td>\n",
       "      <td>748260</td>\n",
       "      <td>Los Angeles Dodgers</td>\n",
       "      <td>San Diego Padres</td>\n",
       "      <td>Landon Knack</td>\n",
       "      <td>Jhony Brito</td>\n",
       "      <td>1</td>\n",
       "      <td>4</td>\n",
       "      <td>3.65</td>\n",
       "      <td>...</td>\n",
       "      <td>0.420</td>\n",
       "      <td>190.0</td>\n",
       "      <td>4.69</td>\n",
       "      <td>458.0</td>\n",
       "      <td>1077.0</td>\n",
       "      <td>18.0</td>\n",
       "      <td>76.0</td>\n",
       "      <td>Cloudy</td>\n",
       "      <td>5.0</td>\n",
       "      <td>3</td>\n",
       "    </tr>\n",
       "  </tbody>\n",
       "</table>\n",
       "<p>5 rows × 41 columns</p>\n",
       "</div>"
      ],
      "text/plain": [
       "   Unnamed: 0.1  Unnamed: 0  game_id            home_name  \\\n",
       "0             0           0   748266     San Diego Padres   \n",
       "1             1           1   748344       Boston Red Sox   \n",
       "2             2           2   748263        Texas Rangers   \n",
       "3             3           3   748341         Chicago Cubs   \n",
       "4             4           4   748260  Los Angeles Dodgers   \n",
       "\n",
       "              away_name home_probable_pitcher away_probable_pitcher  \\\n",
       "0   Los Angeles Dodgers          Joe Musgrove           Gavin Stone   \n",
       "1  Northeastern Huskies      Helcris Olivárez          Aiven Cabral   \n",
       "2    Kansas City Royals          Dane Dunning       Daniel Lynch IV   \n",
       "3     Chicago White Sox          Jordan Wicks          Jesse Chavez   \n",
       "4      San Diego Padres          Landon Knack           Jhony Brito   \n",
       "\n",
       "   away_score  home_score  home_ERA  ...  away_home_SLG  away_home_HR  \\\n",
       "0          14           1      3.88  ...          0.446         233.0   \n",
       "1           2           7       NaN  ...            NaN           NaN   \n",
       "2           4           5      5.31  ...          0.403         170.0   \n",
       "3           1           8      5.48  ...          0.340         133.0   \n",
       "4           1           4      3.65  ...          0.420         190.0   \n",
       "\n",
       "   away_home_R/G  away_home_BB_batting  away_home_SO_batting  away_home_IBB  \\\n",
       "0           5.20                 602.0                1336.0           33.0   \n",
       "1            NaN                   NaN                   NaN            NaN   \n",
       "2           4.54                 429.0                1161.0           22.0   \n",
       "3           3.13                 395.0                1403.0            8.0   \n",
       "4           4.69                 458.0                1077.0           18.0   \n",
       "\n",
       "   temp      condition  wind  condition_code  \n",
       "0  71.0          Sunny   3.0               2  \n",
       "1  75.0  Partly Cloudy  16.0               0  \n",
       "2  76.0  Partly Cloudy   9.0               0  \n",
       "3  75.0         Cloudy   6.0               3  \n",
       "4  76.0         Cloudy   5.0               3  \n",
       "\n",
       "[5 rows x 41 columns]"
      ]
     },
     "execution_count": 260,
     "metadata": {},
     "output_type": "execute_result"
    }
   ],
   "source": [
    "game_logs.head()"
   ]
  },
  {
   "cell_type": "code",
   "execution_count": 262,
   "id": "96ed60bd-79a7-4863-a001-1a175c581c4e",
   "metadata": {},
   "outputs": [],
   "source": [
    "game_logs = game_logs.drop(columns=['Unnamed: 0.1', 'Unnamed: 0'])"
   ]
  },
  {
   "cell_type": "code",
   "execution_count": 264,
   "id": "76ab2572-1e02-4bd9-b6e7-28f158257e8b",
   "metadata": {},
   "outputs": [],
   "source": [
    "game_logs.to_csv(\"../data/final_game_logs.csv\")"
   ]
  }
 ],
 "metadata": {
  "kernelspec": {
   "display_name": "Python 3 (ipykernel)",
   "language": "python",
   "name": "python3"
  },
  "language_info": {
   "codemirror_mode": {
    "name": "ipython",
    "version": 3
   },
   "file_extension": ".py",
   "mimetype": "text/x-python",
   "name": "python",
   "nbconvert_exporter": "python",
   "pygments_lexer": "ipython3",
   "version": "3.12.4"
  }
 },
 "nbformat": 4,
 "nbformat_minor": 5
}
