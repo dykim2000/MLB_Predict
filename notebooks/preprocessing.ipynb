{
 "cells": [
  {
   "cell_type": "code",
   "execution_count": 95,
   "metadata": {},
   "outputs": [],
   "source": [
    "import numpy as np\n",
    "import pandas as pd"
   ]
  },
  {
   "cell_type": "code",
   "execution_count": 96,
   "metadata": {},
   "outputs": [],
   "source": [
    "pitching = pd.read_csv(\"../data/pitching_stats_2024.csv\")\n",
    "batting = pd.read_csv(\"../data/batting_stats_2024.csv\")\n",
    "game_logs = pd.read_csv(\"../data/game_logs_2024.csv\")"
   ]
  },
  {
   "cell_type": "code",
   "execution_count": 97,
   "metadata": {},
   "outputs": [],
   "source": [
    "pitching_feature_info = pd.read_csv(\"../data/pitching_stats_reference.csv\", index_col=False)\n",
    "batting_feature_info = pd.read_csv(\"../data/batting_stats_reference.csv\", index_col=False)"
   ]
  },
  {
   "cell_type": "code",
   "execution_count": 101,
   "metadata": {},
   "outputs": [
    {
     "name": "stdout",
     "output_type": "stream",
     "text": [
      "IBB : Intentional Walks , Intentional bases on balls\n",
      "SF : Sacrifice Flies , Sacrifice fly outs\n"
     ]
    },
    {
     "ename": "IndexError",
     "evalue": "single positional indexer is out-of-bounds",
     "output_type": "error",
     "traceback": [
      "\u001b[0;31m---------------------------------------------------------------------------\u001b[0m",
      "\u001b[0;31mIndexError\u001b[0m                                Traceback (most recent call last)",
      "Cell \u001b[0;32mIn[101], line 15\u001b[0m\n\u001b[1;32m     13\u001b[0m feature_info(\u001b[38;5;124m'\u001b[39m\u001b[38;5;124mIBB\u001b[39m\u001b[38;5;124m'\u001b[39m, \u001b[38;5;28mtype\u001b[39m\u001b[38;5;241m=\u001b[39m\u001b[38;5;124m'\u001b[39m\u001b[38;5;124mpitching\u001b[39m\u001b[38;5;124m'\u001b[39m)\n\u001b[1;32m     14\u001b[0m feature_info(\u001b[38;5;124m'\u001b[39m\u001b[38;5;124mSF\u001b[39m\u001b[38;5;124m'\u001b[39m, \u001b[38;5;28mtype\u001b[39m\u001b[38;5;241m=\u001b[39m\u001b[38;5;124m'\u001b[39m\u001b[38;5;124mbatting\u001b[39m\u001b[38;5;124m'\u001b[39m)\n\u001b[0;32m---> 15\u001b[0m feature_info(\u001b[38;5;124m'\u001b[39m\u001b[38;5;124mName\u001b[39m\u001b[38;5;124m'\u001b[39m, \u001b[38;5;28mtype\u001b[39m\u001b[38;5;241m=\u001b[39m\u001b[38;5;124m'\u001b[39m\u001b[38;5;124mpitching\u001b[39m\u001b[38;5;124m'\u001b[39m)\n",
      "Cell \u001b[0;32mIn[101], line 4\u001b[0m, in \u001b[0;36mfeature_info\u001b[0;34m(feature, type)\u001b[0m\n\u001b[1;32m      2\u001b[0m \u001b[38;5;28;01mdef\u001b[39;00m \u001b[38;5;21mfeature_info\u001b[39m(feature, \u001b[38;5;28mtype\u001b[39m\u001b[38;5;241m=\u001b[39m\u001b[38;5;124m\"\u001b[39m\u001b[38;5;124mpitching\u001b[39m\u001b[38;5;124m\"\u001b[39m):\n\u001b[1;32m      3\u001b[0m     \u001b[38;5;28;01mif\u001b[39;00m \u001b[38;5;28mtype\u001b[39m \u001b[38;5;241m==\u001b[39m \u001b[38;5;124m\"\u001b[39m\u001b[38;5;124mpitching\u001b[39m\u001b[38;5;124m\"\u001b[39m:\n\u001b[0;32m----> 4\u001b[0m         fullname \u001b[38;5;241m=\u001b[39m pitching_feature_info[pitching_feature_info[\u001b[38;5;124m'\u001b[39m\u001b[38;5;124mAbbreviation\u001b[39m\u001b[38;5;124m'\u001b[39m] \u001b[38;5;241m==\u001b[39m feature][\u001b[38;5;124m\"\u001b[39m\u001b[38;5;124mFull Name\u001b[39m\u001b[38;5;124m\"\u001b[39m]\u001b[38;5;241m.\u001b[39miloc[\u001b[38;5;241m0\u001b[39m]\n\u001b[1;32m      5\u001b[0m         desc \u001b[38;5;241m=\u001b[39m pitching_feature_info[pitching_feature_info[\u001b[38;5;124m'\u001b[39m\u001b[38;5;124mAbbreviation\u001b[39m\u001b[38;5;124m'\u001b[39m] \u001b[38;5;241m==\u001b[39m feature][\u001b[38;5;124m\"\u001b[39m\u001b[38;5;124mDescription\u001b[39m\u001b[38;5;124m\"\u001b[39m]\u001b[38;5;241m.\u001b[39miloc[\u001b[38;5;241m0\u001b[39m]\n\u001b[1;32m      6\u001b[0m         \u001b[38;5;28mprint\u001b[39m(feature \u001b[38;5;241m+\u001b[39m \u001b[38;5;124m\"\u001b[39m\u001b[38;5;124m : \u001b[39m\u001b[38;5;124m\"\u001b[39m \u001b[38;5;241m+\u001b[39m fullname \u001b[38;5;241m+\u001b[39m \u001b[38;5;124m\"\u001b[39m\u001b[38;5;124m , \u001b[39m\u001b[38;5;124m\"\u001b[39m \u001b[38;5;241m+\u001b[39m desc)\n",
      "File \u001b[0;32m/opt/anaconda3/lib/python3.12/site-packages/pandas/core/indexing.py:1191\u001b[0m, in \u001b[0;36m_LocationIndexer.__getitem__\u001b[0;34m(self, key)\u001b[0m\n\u001b[1;32m   1189\u001b[0m maybe_callable \u001b[38;5;241m=\u001b[39m com\u001b[38;5;241m.\u001b[39mapply_if_callable(key, \u001b[38;5;28mself\u001b[39m\u001b[38;5;241m.\u001b[39mobj)\n\u001b[1;32m   1190\u001b[0m maybe_callable \u001b[38;5;241m=\u001b[39m \u001b[38;5;28mself\u001b[39m\u001b[38;5;241m.\u001b[39m_check_deprecated_callable_usage(key, maybe_callable)\n\u001b[0;32m-> 1191\u001b[0m \u001b[38;5;28;01mreturn\u001b[39;00m \u001b[38;5;28mself\u001b[39m\u001b[38;5;241m.\u001b[39m_getitem_axis(maybe_callable, axis\u001b[38;5;241m=\u001b[39maxis)\n",
      "File \u001b[0;32m/opt/anaconda3/lib/python3.12/site-packages/pandas/core/indexing.py:1752\u001b[0m, in \u001b[0;36m_iLocIndexer._getitem_axis\u001b[0;34m(self, key, axis)\u001b[0m\n\u001b[1;32m   1749\u001b[0m     \u001b[38;5;28;01mraise\u001b[39;00m \u001b[38;5;167;01mTypeError\u001b[39;00m(\u001b[38;5;124m\"\u001b[39m\u001b[38;5;124mCannot index by location index with a non-integer key\u001b[39m\u001b[38;5;124m\"\u001b[39m)\n\u001b[1;32m   1751\u001b[0m \u001b[38;5;66;03m# validate the location\u001b[39;00m\n\u001b[0;32m-> 1752\u001b[0m \u001b[38;5;28mself\u001b[39m\u001b[38;5;241m.\u001b[39m_validate_integer(key, axis)\n\u001b[1;32m   1754\u001b[0m \u001b[38;5;28;01mreturn\u001b[39;00m \u001b[38;5;28mself\u001b[39m\u001b[38;5;241m.\u001b[39mobj\u001b[38;5;241m.\u001b[39m_ixs(key, axis\u001b[38;5;241m=\u001b[39maxis)\n",
      "File \u001b[0;32m/opt/anaconda3/lib/python3.12/site-packages/pandas/core/indexing.py:1685\u001b[0m, in \u001b[0;36m_iLocIndexer._validate_integer\u001b[0;34m(self, key, axis)\u001b[0m\n\u001b[1;32m   1683\u001b[0m len_axis \u001b[38;5;241m=\u001b[39m \u001b[38;5;28mlen\u001b[39m(\u001b[38;5;28mself\u001b[39m\u001b[38;5;241m.\u001b[39mobj\u001b[38;5;241m.\u001b[39m_get_axis(axis))\n\u001b[1;32m   1684\u001b[0m \u001b[38;5;28;01mif\u001b[39;00m key \u001b[38;5;241m>\u001b[39m\u001b[38;5;241m=\u001b[39m len_axis \u001b[38;5;129;01mor\u001b[39;00m key \u001b[38;5;241m<\u001b[39m \u001b[38;5;241m-\u001b[39mlen_axis:\n\u001b[0;32m-> 1685\u001b[0m     \u001b[38;5;28;01mraise\u001b[39;00m \u001b[38;5;167;01mIndexError\u001b[39;00m(\u001b[38;5;124m\"\u001b[39m\u001b[38;5;124msingle positional indexer is out-of-bounds\u001b[39m\u001b[38;5;124m\"\u001b[39m)\n",
      "\u001b[0;31mIndexError\u001b[0m: single positional indexer is out-of-bounds"
     ]
    }
   ],
   "source": [
    "### Function fetching the information of the pitching/batting stats abbreviations\n",
    "def feature_info(feature, type=\"pitching\"):\n",
    "    if type == \"pitching\":\n",
    "        fullname = pitching_feature_info[pitching_feature_info['Abbreviation'] == feature][\"Full Name\"].iloc[0]\n",
    "        desc = pitching_feature_info[pitching_feature_info['Abbreviation'] == feature][\"Description\"].iloc[0]\n",
    "        print(feature + \" : \" + fullname + \" , \" + desc)\n",
    "    elif type == \"batting\":\n",
    "        fullname = batting_feature_info[batting_feature_info['Abbreviation'] == feature][\"Full Name\"].iloc[0]\n",
    "        desc = batting_feature_info[batting_feature_info['Abbreviation'] == feature][\"Description\"].iloc[0]\n",
    "        print(feature + \" : \" + fullname + \" , \" + desc)\n",
    "        \n",
    "#Examples\n",
    "feature_info('IBB', type='pitching')\n",
    "feature_info('SF', type='batting')"
   ]
  },
  {
   "cell_type": "markdown",
   "metadata": {},
   "source": [
    "### Explanation of the Pitching Features"
   ]
  },
  {
   "cell_type": "code",
   "execution_count": 99,
   "metadata": {},
   "outputs": [
    {
     "name": "stdout",
     "output_type": "stream",
     "text": [
      "W : Wins , Number of games where pitcher was credited with a win\n",
      "L : Losses , Number of games where pitcher was credited with a loss\n",
      "WAR : Wins Above Replacement , Overall value compared to a replacement-level player\n",
      "ERA : Earned Run Average , Average earned runs per 9 innings\n",
      "G : Games , Total games appeared in\n",
      "GS : Games Started , Total games started by the pitcher\n",
      "CG : Complete Games , Games pitched start to finish\n",
      "ShO : Shutouts , Complete games with 0 runs allowed\n",
      "SV : Saves , Games successfully closed in a save situation\n",
      "IP : Innings Pitched , Total innings pitched\n",
      "TBF : Total Batters Faced , Total plate appearances faced\n",
      "H : Hits Allowed , Total hits allowed\n",
      "R : Runs Allowed , All runs allowed\n",
      "ER : Earned Runs , Runs charged to pitcher (excluding errors)\n",
      "HR : Home Runs Allowed , Total home runs given up\n",
      "BB : Walks , Bases on balls allowed\n",
      "IBB : Intentional Walks , Intentional bases on balls\n",
      "HBP : Hit By Pitch , Number of batters hit by pitch\n",
      "WP : Wild Pitches , Pitches too wild to be handled by catcher\n",
      "BK : Balks , Illegal motions resulting in base advancement\n",
      "SO : Strikeouts , Total strikeouts\n",
      "GB : Ground Balls , Number of ground balls allowed\n",
      "FB : Fly Balls , Number of fly balls allowed\n",
      "LD : Line Drives , Number of line drives allowed\n",
      "Pitches : Total Pitches , Total pitches thrown\n",
      "K/9 : Strikeouts per 9 , Strikeouts per 9 innings\n",
      "BB/9 : Walks per 9 , Walks per 9 innings\n",
      "K/BB : K/BB Ratio , Strikeouts to walks ratio\n",
      "H/9 : Hits per 9 , Hits allowed per 9 innings\n",
      "HR/9 : Home Runs per 9 , Home runs allowed per 9 innings\n",
      "AVG : Batting Average Against , Opponent batting average against pitcher\n",
      "WHIP : Walks + Hits per Inning , Base runners allowed per inning\n",
      "BABIP : Batting Avg on Balls in Play , Opponents’ success on balls in play\n",
      "LOB% : Left On Base % , Percentage of runners stranded on base\n",
      "FIP : Fielding Independent Pitching , ERA-like metric based on K, BB, HR only\n",
      "ERA- : ERA minus , ERA scaled to league (100 = average) lower is better\n",
      "FIP- : FIP minus , FIP scaled to league (100 = average) lower is better\n",
      "xFIP : Expected FIP , ERA-like estimator normalizing HR/FB rate\n",
      "K% : Strikeout Percentage , K per plate appearance\n",
      "BB% : Walk Percentage , BB per plate appearance\n",
      "SIERA : Skill Interactive ERA , ERA estimator considering batted-ball profile\n",
      "RS/9 : Run Support per 9 , Runs scored by pitcher’s team per 9 innings\n",
      "xERA : Expected ERA , ERA expected from Statcast batted-ball data\n",
      "CSW% : Called Strikes + Whiffs % , Percentage of pitches resulting in called strikes or whiffs\n",
      "EV : Exit Velocity , Average exit velocity on balls in play\n",
      "LA : Launch Angle , Average launch angle of batted balls\n",
      "Barrel% : Barrel Rate , Percentage of batted balls classified as barrels\n",
      "Stuff+ : Stuff+ , Pitch quality metric (FanGraphs+)\n",
      "Location+ : Location+ , Pitch location quality metric\n",
      "Pitching+ : Pitching+ , Overall pitching quality metric\n",
      "SL% : Slider Usage % , Percentage of sliders thrown\n",
      "CH% : Changeup Usage % , Percentage of changeups thrown\n",
      "FBv : Fastball Velocity , Average velocity of fastball\n",
      "SLv : Slider Velocity , Average velocity of slider\n",
      "wFB : Fastball Runs Above Avg , Run value of fastball\n",
      "wSL : Slider Runs Above Avg , Run value of slider\n",
      "wCH : Changeup Runs Above Avg , Run value of changeup\n"
     ]
    },
    {
     "ename": "IndexError",
     "evalue": "single positional indexer is out-of-bounds",
     "output_type": "error",
     "traceback": [
      "\u001b[0;31m---------------------------------------------------------------------------\u001b[0m",
      "\u001b[0;31mIndexError\u001b[0m                                Traceback (most recent call last)",
      "Cell \u001b[0;32mIn[99], line 2\u001b[0m\n\u001b[1;32m      1\u001b[0m \u001b[38;5;28;01mfor\u001b[39;00m col \u001b[38;5;129;01min\u001b[39;00m pitching\u001b[38;5;241m.\u001b[39mcolumns:\n\u001b[0;32m----> 2\u001b[0m     feature_info(col, \u001b[38;5;28mtype\u001b[39m\u001b[38;5;241m=\u001b[39m\u001b[38;5;124m'\u001b[39m\u001b[38;5;124mpitching\u001b[39m\u001b[38;5;124m'\u001b[39m)\n",
      "Cell \u001b[0;32mIn[98], line 4\u001b[0m, in \u001b[0;36mfeature_info\u001b[0;34m(feature, type)\u001b[0m\n\u001b[1;32m      2\u001b[0m \u001b[38;5;28;01mdef\u001b[39;00m \u001b[38;5;21mfeature_info\u001b[39m(feature, \u001b[38;5;28mtype\u001b[39m\u001b[38;5;241m=\u001b[39m\u001b[38;5;124m\"\u001b[39m\u001b[38;5;124mpitching\u001b[39m\u001b[38;5;124m\"\u001b[39m):\n\u001b[1;32m      3\u001b[0m     \u001b[38;5;28;01mif\u001b[39;00m \u001b[38;5;28mtype\u001b[39m \u001b[38;5;241m==\u001b[39m \u001b[38;5;124m\"\u001b[39m\u001b[38;5;124mpitching\u001b[39m\u001b[38;5;124m\"\u001b[39m:\n\u001b[0;32m----> 4\u001b[0m         fullname \u001b[38;5;241m=\u001b[39m pitching_feature_info[pitching_feature_info[\u001b[38;5;124m'\u001b[39m\u001b[38;5;124mAbbreviation\u001b[39m\u001b[38;5;124m'\u001b[39m] \u001b[38;5;241m==\u001b[39m feature][\u001b[38;5;124m\"\u001b[39m\u001b[38;5;124mFull Name\u001b[39m\u001b[38;5;124m\"\u001b[39m]\u001b[38;5;241m.\u001b[39miloc[\u001b[38;5;241m0\u001b[39m]\n\u001b[1;32m      5\u001b[0m         desc \u001b[38;5;241m=\u001b[39m pitching_feature_info[pitching_feature_info[\u001b[38;5;124m'\u001b[39m\u001b[38;5;124mAbbreviation\u001b[39m\u001b[38;5;124m'\u001b[39m] \u001b[38;5;241m==\u001b[39m feature][\u001b[38;5;124m\"\u001b[39m\u001b[38;5;124mDescription\u001b[39m\u001b[38;5;124m\"\u001b[39m]\u001b[38;5;241m.\u001b[39miloc[\u001b[38;5;241m0\u001b[39m]\n\u001b[1;32m      6\u001b[0m         \u001b[38;5;28mprint\u001b[39m(feature \u001b[38;5;241m+\u001b[39m \u001b[38;5;124m\"\u001b[39m\u001b[38;5;124m : \u001b[39m\u001b[38;5;124m\"\u001b[39m \u001b[38;5;241m+\u001b[39m fullname \u001b[38;5;241m+\u001b[39m \u001b[38;5;124m\"\u001b[39m\u001b[38;5;124m , \u001b[39m\u001b[38;5;124m\"\u001b[39m \u001b[38;5;241m+\u001b[39m desc)\n",
      "File \u001b[0;32m/opt/anaconda3/lib/python3.12/site-packages/pandas/core/indexing.py:1191\u001b[0m, in \u001b[0;36m_LocationIndexer.__getitem__\u001b[0;34m(self, key)\u001b[0m\n\u001b[1;32m   1189\u001b[0m maybe_callable \u001b[38;5;241m=\u001b[39m com\u001b[38;5;241m.\u001b[39mapply_if_callable(key, \u001b[38;5;28mself\u001b[39m\u001b[38;5;241m.\u001b[39mobj)\n\u001b[1;32m   1190\u001b[0m maybe_callable \u001b[38;5;241m=\u001b[39m \u001b[38;5;28mself\u001b[39m\u001b[38;5;241m.\u001b[39m_check_deprecated_callable_usage(key, maybe_callable)\n\u001b[0;32m-> 1191\u001b[0m \u001b[38;5;28;01mreturn\u001b[39;00m \u001b[38;5;28mself\u001b[39m\u001b[38;5;241m.\u001b[39m_getitem_axis(maybe_callable, axis\u001b[38;5;241m=\u001b[39maxis)\n",
      "File \u001b[0;32m/opt/anaconda3/lib/python3.12/site-packages/pandas/core/indexing.py:1752\u001b[0m, in \u001b[0;36m_iLocIndexer._getitem_axis\u001b[0;34m(self, key, axis)\u001b[0m\n\u001b[1;32m   1749\u001b[0m     \u001b[38;5;28;01mraise\u001b[39;00m \u001b[38;5;167;01mTypeError\u001b[39;00m(\u001b[38;5;124m\"\u001b[39m\u001b[38;5;124mCannot index by location index with a non-integer key\u001b[39m\u001b[38;5;124m\"\u001b[39m)\n\u001b[1;32m   1751\u001b[0m \u001b[38;5;66;03m# validate the location\u001b[39;00m\n\u001b[0;32m-> 1752\u001b[0m \u001b[38;5;28mself\u001b[39m\u001b[38;5;241m.\u001b[39m_validate_integer(key, axis)\n\u001b[1;32m   1754\u001b[0m \u001b[38;5;28;01mreturn\u001b[39;00m \u001b[38;5;28mself\u001b[39m\u001b[38;5;241m.\u001b[39mobj\u001b[38;5;241m.\u001b[39m_ixs(key, axis\u001b[38;5;241m=\u001b[39maxis)\n",
      "File \u001b[0;32m/opt/anaconda3/lib/python3.12/site-packages/pandas/core/indexing.py:1685\u001b[0m, in \u001b[0;36m_iLocIndexer._validate_integer\u001b[0;34m(self, key, axis)\u001b[0m\n\u001b[1;32m   1683\u001b[0m len_axis \u001b[38;5;241m=\u001b[39m \u001b[38;5;28mlen\u001b[39m(\u001b[38;5;28mself\u001b[39m\u001b[38;5;241m.\u001b[39mobj\u001b[38;5;241m.\u001b[39m_get_axis(axis))\n\u001b[1;32m   1684\u001b[0m \u001b[38;5;28;01mif\u001b[39;00m key \u001b[38;5;241m>\u001b[39m\u001b[38;5;241m=\u001b[39m len_axis \u001b[38;5;129;01mor\u001b[39;00m key \u001b[38;5;241m<\u001b[39m \u001b[38;5;241m-\u001b[39mlen_axis:\n\u001b[0;32m-> 1685\u001b[0m     \u001b[38;5;28;01mraise\u001b[39;00m \u001b[38;5;167;01mIndexError\u001b[39;00m(\u001b[38;5;124m\"\u001b[39m\u001b[38;5;124msingle positional indexer is out-of-bounds\u001b[39m\u001b[38;5;124m\"\u001b[39m)\n",
      "\u001b[0;31mIndexError\u001b[0m: single positional indexer is out-of-bounds"
     ]
    }
   ],
   "source": [
    "for col in pitching.columns:\n",
    "    feature_info(col, type='pitching')"
   ]
  },
  {
   "cell_type": "markdown",
   "metadata": {},
   "source": [
    "### Explanation of the Batting Features"
   ]
  },
  {
   "cell_type": "code",
   "execution_count": 100,
   "metadata": {},
   "outputs": [
    {
     "name": "stdout",
     "output_type": "stream",
     "text": [
      "G : Games Played , Total games appeared in\n",
      "AB : At Bats , Official at-bats (excludes walks, HBP, etc.)\n",
      "PA : Plate Appearances , Total trips to the plate including walks and HBP\n",
      "H : Hits , Total hits (singles + doubles + triples + HRs)\n",
      "1B : Singles , Hits that are singles\n",
      "2B : Doubles , Hits that are doubles\n",
      "3B : Triples , Hits that are triples\n",
      "HR : Home Runs , Hits that are home runs\n",
      "R : Runs , Total runs scored\n",
      "RBI : Runs Batted In , Total runs batted in\n",
      "BB : Walks , Base on balls\n",
      "IBB : Intentional Walks , Intentional base on balls\n",
      "SO : Strikeouts , Total strikeouts\n",
      "HBP : Hit By Pitch , Times hit by a pitch\n",
      "SF : Sacrifice Flies , Sacrifice fly outs\n",
      "SH : Sacrifice Hits , Sacrifice bunts\n",
      "GDP : Ground Into Double Play , Grounded into double plays\n",
      "SB : Stolen Bases , Bases stolen successfully\n",
      "CS : Caught Stealing , Times caught stealing\n",
      "AVG : Batting Average , Hits divided by at-bats\n",
      "OBP : On-base Percentage , Times on base divided by plate appearances\n",
      "SLG : Slugging Percentage , Total bases divided by at-bats\n",
      "OPS : On-base Plus Slugging , OBP + SLG\n",
      "ISO : Isolated Power , SLG - AVG, measures raw power\n",
      "BABIP : Batting Avg on Balls in Play , Average on balls in play\n",
      "BB% : Walk Percentage , Walks per plate appearance\n",
      "K% : Strikeout Percentage , Strikeouts per plate appearance\n",
      "BB/K : Walk to Strikeout Ratio , Walks divided by strikeouts\n",
      "GB : Ground Balls , Number of ground balls hit\n",
      "FB : Fly Balls , Number of fly balls hit\n",
      "LD : Line Drives , Number of line drives hit\n",
      "IFFB : Infield Fly Balls , Number of infield flies hit\n",
      "Pitches : Pitches Seen , Total pitches faced\n",
      "Balls : Balls Seen , Total pitches called balls\n",
      "Strikes : Strikes Seen , Total pitches called strikes\n",
      "IFH : Infield Hits , Infield hits recorded as singles\n",
      "BU : Bunts , Total bunt attempts\n",
      "BUH : Bunt Hits , Successful bunt hits\n",
      "GB/FB : Ground Ball/Fly Ball Ratio , Ratio of ground balls to fly balls\n",
      "LD% : Line Drive Percentage , Percentage of balls hit as line drives\n",
      "GB% : Ground Ball Percentage , Percentage of balls hit as ground balls\n",
      "FB% : Fly Ball Percentage , Percentage of balls hit as fly balls\n",
      "HR/FB : Home Run to Fly Ball Ratio , Home runs divided by fly balls\n",
      "wOBA : Weighted On-Base Average , Advanced metric for overall offensive value\n",
      "wRAA : Weighted Runs Above Average , Runs above average created by player\n",
      "wRC : Weighted Runs Created , Total weighted runs created\n",
      "WAR : Wins Above Replacement , Overall value compared to replacement player\n",
      "wRC+ : Weighted Runs Created Plus , wRC adjusted for park/league (100 = average)\n",
      "WPA : Win Probability Added , Contribution to team's win probability\n",
      "RE24 : Run Expectancy 24 , Runs above average in 24 base/out states\n",
      "Pull% : Pull Percentage , Percentage of balls hit to pull side\n",
      "Cent% : Center Percentage , Percentage of balls hit to center\n",
      "Oppo% : Opposite Field Percentage , Percentage of balls hit to opposite field\n",
      "Soft% : Soft Contact Percentage , Percentage of softly hit balls\n",
      "Med% : Medium Contact Percentage , Percentage of medium-contact balls\n",
      "Hard% : Hard Contact Percentage , Percentage of hard-hit balls\n",
      "Barrels : Barrels , Number of barreled batted balls\n",
      "Barrel% : Barrel Percentage , Percentage of batted balls that are barrels\n",
      "EV : Exit Velocity , Average exit velocity of batted balls\n",
      "LA : Launch Angle , Average launch angle of batted balls\n",
      "HardHit% : Hard Hit Percentage , Percentage of batted balls hit 95+ mph\n",
      "maxEV : Max Exit Velocity , Maximum exit velocity\n",
      "xBA : Expected Batting Average , Statcast expected batting average\n",
      "xSLG : Expected Slugging Percentage , Statcast expected slugging\n",
      "xwOBA : Expected wOBA , Statcast expected wOBA\n"
     ]
    },
    {
     "ename": "IndexError",
     "evalue": "single positional indexer is out-of-bounds",
     "output_type": "error",
     "traceback": [
      "\u001b[0;31m---------------------------------------------------------------------------\u001b[0m",
      "\u001b[0;31mIndexError\u001b[0m                                Traceback (most recent call last)",
      "Cell \u001b[0;32mIn[100], line 2\u001b[0m\n\u001b[1;32m      1\u001b[0m \u001b[38;5;28;01mfor\u001b[39;00m col \u001b[38;5;129;01min\u001b[39;00m batting\u001b[38;5;241m.\u001b[39mcolumns:\n\u001b[0;32m----> 2\u001b[0m     feature_info(col, \u001b[38;5;28mtype\u001b[39m\u001b[38;5;241m=\u001b[39m\u001b[38;5;124m'\u001b[39m\u001b[38;5;124mbatting\u001b[39m\u001b[38;5;124m'\u001b[39m)\n",
      "Cell \u001b[0;32mIn[98], line 8\u001b[0m, in \u001b[0;36mfeature_info\u001b[0;34m(feature, type)\u001b[0m\n\u001b[1;32m      6\u001b[0m     \u001b[38;5;28mprint\u001b[39m(feature \u001b[38;5;241m+\u001b[39m \u001b[38;5;124m\"\u001b[39m\u001b[38;5;124m : \u001b[39m\u001b[38;5;124m\"\u001b[39m \u001b[38;5;241m+\u001b[39m fullname \u001b[38;5;241m+\u001b[39m \u001b[38;5;124m\"\u001b[39m\u001b[38;5;124m , \u001b[39m\u001b[38;5;124m\"\u001b[39m \u001b[38;5;241m+\u001b[39m desc)\n\u001b[1;32m      7\u001b[0m \u001b[38;5;28;01melif\u001b[39;00m \u001b[38;5;28mtype\u001b[39m \u001b[38;5;241m==\u001b[39m \u001b[38;5;124m\"\u001b[39m\u001b[38;5;124mbatting\u001b[39m\u001b[38;5;124m\"\u001b[39m:\n\u001b[0;32m----> 8\u001b[0m     fullname \u001b[38;5;241m=\u001b[39m batting_feature_info[batting_feature_info[\u001b[38;5;124m'\u001b[39m\u001b[38;5;124mAbbreviation\u001b[39m\u001b[38;5;124m'\u001b[39m] \u001b[38;5;241m==\u001b[39m feature][\u001b[38;5;124m\"\u001b[39m\u001b[38;5;124mFull Name\u001b[39m\u001b[38;5;124m\"\u001b[39m]\u001b[38;5;241m.\u001b[39miloc[\u001b[38;5;241m0\u001b[39m]\n\u001b[1;32m      9\u001b[0m     desc \u001b[38;5;241m=\u001b[39m batting_feature_info[batting_feature_info[\u001b[38;5;124m'\u001b[39m\u001b[38;5;124mAbbreviation\u001b[39m\u001b[38;5;124m'\u001b[39m] \u001b[38;5;241m==\u001b[39m feature][\u001b[38;5;124m\"\u001b[39m\u001b[38;5;124mDescription\u001b[39m\u001b[38;5;124m\"\u001b[39m]\u001b[38;5;241m.\u001b[39miloc[\u001b[38;5;241m0\u001b[39m]\n\u001b[1;32m     10\u001b[0m     \u001b[38;5;28mprint\u001b[39m(feature \u001b[38;5;241m+\u001b[39m \u001b[38;5;124m\"\u001b[39m\u001b[38;5;124m : \u001b[39m\u001b[38;5;124m\"\u001b[39m \u001b[38;5;241m+\u001b[39m fullname \u001b[38;5;241m+\u001b[39m \u001b[38;5;124m\"\u001b[39m\u001b[38;5;124m , \u001b[39m\u001b[38;5;124m\"\u001b[39m \u001b[38;5;241m+\u001b[39m desc)\n",
      "File \u001b[0;32m/opt/anaconda3/lib/python3.12/site-packages/pandas/core/indexing.py:1191\u001b[0m, in \u001b[0;36m_LocationIndexer.__getitem__\u001b[0;34m(self, key)\u001b[0m\n\u001b[1;32m   1189\u001b[0m maybe_callable \u001b[38;5;241m=\u001b[39m com\u001b[38;5;241m.\u001b[39mapply_if_callable(key, \u001b[38;5;28mself\u001b[39m\u001b[38;5;241m.\u001b[39mobj)\n\u001b[1;32m   1190\u001b[0m maybe_callable \u001b[38;5;241m=\u001b[39m \u001b[38;5;28mself\u001b[39m\u001b[38;5;241m.\u001b[39m_check_deprecated_callable_usage(key, maybe_callable)\n\u001b[0;32m-> 1191\u001b[0m \u001b[38;5;28;01mreturn\u001b[39;00m \u001b[38;5;28mself\u001b[39m\u001b[38;5;241m.\u001b[39m_getitem_axis(maybe_callable, axis\u001b[38;5;241m=\u001b[39maxis)\n",
      "File \u001b[0;32m/opt/anaconda3/lib/python3.12/site-packages/pandas/core/indexing.py:1752\u001b[0m, in \u001b[0;36m_iLocIndexer._getitem_axis\u001b[0;34m(self, key, axis)\u001b[0m\n\u001b[1;32m   1749\u001b[0m     \u001b[38;5;28;01mraise\u001b[39;00m \u001b[38;5;167;01mTypeError\u001b[39;00m(\u001b[38;5;124m\"\u001b[39m\u001b[38;5;124mCannot index by location index with a non-integer key\u001b[39m\u001b[38;5;124m\"\u001b[39m)\n\u001b[1;32m   1751\u001b[0m \u001b[38;5;66;03m# validate the location\u001b[39;00m\n\u001b[0;32m-> 1752\u001b[0m \u001b[38;5;28mself\u001b[39m\u001b[38;5;241m.\u001b[39m_validate_integer(key, axis)\n\u001b[1;32m   1754\u001b[0m \u001b[38;5;28;01mreturn\u001b[39;00m \u001b[38;5;28mself\u001b[39m\u001b[38;5;241m.\u001b[39mobj\u001b[38;5;241m.\u001b[39m_ixs(key, axis\u001b[38;5;241m=\u001b[39maxis)\n",
      "File \u001b[0;32m/opt/anaconda3/lib/python3.12/site-packages/pandas/core/indexing.py:1685\u001b[0m, in \u001b[0;36m_iLocIndexer._validate_integer\u001b[0;34m(self, key, axis)\u001b[0m\n\u001b[1;32m   1683\u001b[0m len_axis \u001b[38;5;241m=\u001b[39m \u001b[38;5;28mlen\u001b[39m(\u001b[38;5;28mself\u001b[39m\u001b[38;5;241m.\u001b[39mobj\u001b[38;5;241m.\u001b[39m_get_axis(axis))\n\u001b[1;32m   1684\u001b[0m \u001b[38;5;28;01mif\u001b[39;00m key \u001b[38;5;241m>\u001b[39m\u001b[38;5;241m=\u001b[39m len_axis \u001b[38;5;129;01mor\u001b[39;00m key \u001b[38;5;241m<\u001b[39m \u001b[38;5;241m-\u001b[39mlen_axis:\n\u001b[0;32m-> 1685\u001b[0m     \u001b[38;5;28;01mraise\u001b[39;00m \u001b[38;5;167;01mIndexError\u001b[39;00m(\u001b[38;5;124m\"\u001b[39m\u001b[38;5;124msingle positional indexer is out-of-bounds\u001b[39m\u001b[38;5;124m\"\u001b[39m)\n",
      "\u001b[0;31mIndexError\u001b[0m: single positional indexer is out-of-bounds"
     ]
    }
   ],
   "source": [
    "for col in batting.columns:\n",
    "    feature_info(col, type='batting')"
   ]
  },
  {
   "cell_type": "code",
   "execution_count": 88,
   "metadata": {},
   "outputs": [
    {
     "data": {
      "text/plain": [
       "home_probable_pitcher\n",
       "Corbin Burnes         25\n",
       "MacKenzie Gore        23\n",
       "Carlos Rodón          22\n",
       "Zack Wheeler          22\n",
       "Chris Bassitt         22\n",
       "                      ..\n",
       "Patrick Monteverde     1\n",
       "Raisel Iglesias        1\n",
       "Brandon Bielak         1\n",
       "Casey Lawrence         1\n",
       "Caleb Kilian           1\n",
       "Name: count, Length: 390, dtype: int64"
      ]
     },
     "execution_count": 88,
     "metadata": {},
     "output_type": "execute_result"
    }
   ],
   "source": [
    "game_logs['home_probable_pitcher'].value_counts()"
   ]
  },
  {
   "cell_type": "code",
   "execution_count": 89,
   "metadata": {},
   "outputs": [
    {
     "ename": "KeyError",
     "evalue": "'Name'",
     "output_type": "error",
     "traceback": [
      "\u001b[0;31m---------------------------------------------------------------------------\u001b[0m",
      "\u001b[0;31mKeyError\u001b[0m                                  Traceback (most recent call last)",
      "File \u001b[0;32m/opt/anaconda3/lib/python3.12/site-packages/pandas/core/indexes/base.py:3805\u001b[0m, in \u001b[0;36mIndex.get_loc\u001b[0;34m(self, key)\u001b[0m\n\u001b[1;32m   3804\u001b[0m \u001b[38;5;28;01mtry\u001b[39;00m:\n\u001b[0;32m-> 3805\u001b[0m     \u001b[38;5;28;01mreturn\u001b[39;00m \u001b[38;5;28mself\u001b[39m\u001b[38;5;241m.\u001b[39m_engine\u001b[38;5;241m.\u001b[39mget_loc(casted_key)\n\u001b[1;32m   3806\u001b[0m \u001b[38;5;28;01mexcept\u001b[39;00m \u001b[38;5;167;01mKeyError\u001b[39;00m \u001b[38;5;28;01mas\u001b[39;00m err:\n",
      "File \u001b[0;32mindex.pyx:167\u001b[0m, in \u001b[0;36mpandas._libs.index.IndexEngine.get_loc\u001b[0;34m()\u001b[0m\n",
      "File \u001b[0;32mindex.pyx:196\u001b[0m, in \u001b[0;36mpandas._libs.index.IndexEngine.get_loc\u001b[0;34m()\u001b[0m\n",
      "File \u001b[0;32mpandas/_libs/hashtable_class_helper.pxi:7081\u001b[0m, in \u001b[0;36mpandas._libs.hashtable.PyObjectHashTable.get_item\u001b[0;34m()\u001b[0m\n",
      "File \u001b[0;32mpandas/_libs/hashtable_class_helper.pxi:7089\u001b[0m, in \u001b[0;36mpandas._libs.hashtable.PyObjectHashTable.get_item\u001b[0;34m()\u001b[0m\n",
      "\u001b[0;31mKeyError\u001b[0m: 'Name'",
      "\nThe above exception was the direct cause of the following exception:\n",
      "\u001b[0;31mKeyError\u001b[0m                                  Traceback (most recent call last)",
      "Cell \u001b[0;32mIn[89], line 1\u001b[0m\n\u001b[0;32m----> 1\u001b[0m pitching[pitching[\u001b[38;5;124m'\u001b[39m\u001b[38;5;124mName\u001b[39m\u001b[38;5;124m'\u001b[39m]\u001b[38;5;241m==\u001b[39m\u001b[38;5;124m'\u001b[39m\u001b[38;5;124mCorbin Burnes\u001b[39m\u001b[38;5;124m'\u001b[39m]\n",
      "File \u001b[0;32m/opt/anaconda3/lib/python3.12/site-packages/pandas/core/frame.py:4102\u001b[0m, in \u001b[0;36mDataFrame.__getitem__\u001b[0;34m(self, key)\u001b[0m\n\u001b[1;32m   4100\u001b[0m \u001b[38;5;28;01mif\u001b[39;00m \u001b[38;5;28mself\u001b[39m\u001b[38;5;241m.\u001b[39mcolumns\u001b[38;5;241m.\u001b[39mnlevels \u001b[38;5;241m>\u001b[39m \u001b[38;5;241m1\u001b[39m:\n\u001b[1;32m   4101\u001b[0m     \u001b[38;5;28;01mreturn\u001b[39;00m \u001b[38;5;28mself\u001b[39m\u001b[38;5;241m.\u001b[39m_getitem_multilevel(key)\n\u001b[0;32m-> 4102\u001b[0m indexer \u001b[38;5;241m=\u001b[39m \u001b[38;5;28mself\u001b[39m\u001b[38;5;241m.\u001b[39mcolumns\u001b[38;5;241m.\u001b[39mget_loc(key)\n\u001b[1;32m   4103\u001b[0m \u001b[38;5;28;01mif\u001b[39;00m is_integer(indexer):\n\u001b[1;32m   4104\u001b[0m     indexer \u001b[38;5;241m=\u001b[39m [indexer]\n",
      "File \u001b[0;32m/opt/anaconda3/lib/python3.12/site-packages/pandas/core/indexes/base.py:3812\u001b[0m, in \u001b[0;36mIndex.get_loc\u001b[0;34m(self, key)\u001b[0m\n\u001b[1;32m   3807\u001b[0m     \u001b[38;5;28;01mif\u001b[39;00m \u001b[38;5;28misinstance\u001b[39m(casted_key, \u001b[38;5;28mslice\u001b[39m) \u001b[38;5;129;01mor\u001b[39;00m (\n\u001b[1;32m   3808\u001b[0m         \u001b[38;5;28misinstance\u001b[39m(casted_key, abc\u001b[38;5;241m.\u001b[39mIterable)\n\u001b[1;32m   3809\u001b[0m         \u001b[38;5;129;01mand\u001b[39;00m \u001b[38;5;28many\u001b[39m(\u001b[38;5;28misinstance\u001b[39m(x, \u001b[38;5;28mslice\u001b[39m) \u001b[38;5;28;01mfor\u001b[39;00m x \u001b[38;5;129;01min\u001b[39;00m casted_key)\n\u001b[1;32m   3810\u001b[0m     ):\n\u001b[1;32m   3811\u001b[0m         \u001b[38;5;28;01mraise\u001b[39;00m InvalidIndexError(key)\n\u001b[0;32m-> 3812\u001b[0m     \u001b[38;5;28;01mraise\u001b[39;00m \u001b[38;5;167;01mKeyError\u001b[39;00m(key) \u001b[38;5;28;01mfrom\u001b[39;00m \u001b[38;5;21;01merr\u001b[39;00m\n\u001b[1;32m   3813\u001b[0m \u001b[38;5;28;01mexcept\u001b[39;00m \u001b[38;5;167;01mTypeError\u001b[39;00m:\n\u001b[1;32m   3814\u001b[0m     \u001b[38;5;66;03m# If we have a listlike key, _check_indexing_error will raise\u001b[39;00m\n\u001b[1;32m   3815\u001b[0m     \u001b[38;5;66;03m#  InvalidIndexError. Otherwise we fall through and re-raise\u001b[39;00m\n\u001b[1;32m   3816\u001b[0m     \u001b[38;5;66;03m#  the TypeError.\u001b[39;00m\n\u001b[1;32m   3817\u001b[0m     \u001b[38;5;28mself\u001b[39m\u001b[38;5;241m.\u001b[39m_check_indexing_error(key)\n",
      "\u001b[0;31mKeyError\u001b[0m: 'Name'"
     ]
    }
   ],
   "source": [
    "pitching[pitching['Name']=='Corbin Burnes']"
   ]
  },
  {
   "cell_type": "code",
   "execution_count": null,
   "metadata": {},
   "outputs": [],
   "source": []
  }
 ],
 "metadata": {
  "kernelspec": {
   "display_name": "base",
   "language": "python",
   "name": "python3"
  },
  "language_info": {
   "codemirror_mode": {
    "name": "ipython",
    "version": 3
   },
   "file_extension": ".py",
   "mimetype": "text/x-python",
   "name": "python",
   "nbconvert_exporter": "python",
   "pygments_lexer": "ipython3",
   "version": "3.12.4"
  }
 },
 "nbformat": 4,
 "nbformat_minor": 2
}
