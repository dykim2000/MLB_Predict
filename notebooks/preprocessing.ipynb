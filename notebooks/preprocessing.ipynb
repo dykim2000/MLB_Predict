{
 "cells": [
  {
   "cell_type": "code",
   "execution_count": 23,
   "metadata": {},
   "outputs": [],
   "source": [
    "import numpy as np\n",
    "import pandas as pd"
   ]
  },
  {
   "cell_type": "code",
   "execution_count": 24,
   "metadata": {},
   "outputs": [],
   "source": [
    "pitching = pd.read_csv(\"../data/pitching_stats_2024.csv\")\n",
    "game_logs = pd.read_csv(\"../data/game_logs_2024.csv\")\n",
    "team_batting = pd.read_csv(\"../data/team_batting_stats_2024.csv\", index_col=False)"
   ]
  },
  {
   "cell_type": "code",
   "execution_count": 25,
   "metadata": {},
   "outputs": [],
   "source": [
    "pitching_feature_info = pd.read_csv(\"../data/pitching_stats_reference.csv\", index_col=False)"
   ]
  },
  {
   "cell_type": "code",
   "execution_count": 27,
   "metadata": {},
   "outputs": [
    {
     "name": "stdout",
     "output_type": "stream",
     "text": [
      "IBB : Intentional Walks , Intentional bases on balls\n",
      "SV : Saves , Games successfully closed in a save situation\n"
     ]
    }
   ],
   "source": [
    "### Function fetching the information of the pitching/batting stats abbreviations\n",
    "def feature_info(feature):\n",
    "    fullname = pitching_feature_info[pitching_feature_info['Abbreviation'] == feature][\"Full Name\"].iloc[0]\n",
    "    desc = pitching_feature_info[pitching_feature_info['Abbreviation'] == feature][\"Description\"].iloc[0]\n",
    "    print(feature + \" : \" + fullname + \" , \" + desc)\n",
    "        \n",
    "#Examples\n",
    "feature_info('IBB')\n",
    "feature_info('SV')"
   ]
  },
  {
   "cell_type": "markdown",
   "metadata": {},
   "source": [
    "### Explanation of the Pitching Features"
   ]
  },
  {
   "cell_type": "code",
   "execution_count": 6,
   "metadata": {},
   "outputs": [
    {
     "name": "stdout",
     "output_type": "stream",
     "text": [
      "Name : Name , Name\n",
      "Age : Age , Age\n",
      "Team : Team , Team\n",
      "W : Wins , Number of games where pitcher was credited with a win\n",
      "L : Losses , Number of games where pitcher was credited with a loss\n",
      "WAR : Wins Above Replacement , Overall value compared to a replacement-level player\n",
      "ERA : Earned Run Average , Average earned runs per 9 innings\n",
      "G : Games , Total games appeared in\n",
      "GS : Games Started , Total games started by the pitcher\n",
      "CG : Complete Games , Games pitched start to finish\n",
      "ShO : Shutouts , Complete games with 0 runs allowed\n",
      "SV : Saves , Games successfully closed in a save situation\n",
      "IP : Innings Pitched , Total innings pitched\n",
      "TBF : Total Batters Faced , Total plate appearances faced\n",
      "H : Hits Allowed , Total hits allowed\n",
      "R : Runs Allowed , All runs allowed\n",
      "ER : Earned Runs , Runs charged to pitcher (excluding errors)\n",
      "HR : Home Runs Allowed , Total home runs given up\n",
      "BB : Walks , Bases on balls allowed\n",
      "IBB : Intentional Walks , Intentional bases on balls\n",
      "HBP : Hit By Pitch , Number of batters hit by pitch\n",
      "WP : Wild Pitches , Pitches too wild to be handled by catcher\n",
      "BK : Balks , Illegal motions resulting in base advancement\n",
      "SO : Strikeouts , Total strikeouts\n",
      "GB : Ground Balls , Number of ground balls allowed\n",
      "FB : Fly Balls , Number of fly balls allowed\n",
      "LD : Line Drives , Number of line drives allowed\n",
      "Pitches : Total Pitches , Total pitches thrown\n",
      "K/9 : Strikeouts per 9 , Strikeouts per 9 innings\n",
      "BB/9 : Walks per 9 , Walks per 9 innings\n",
      "K/BB : K/BB Ratio , Strikeouts to walks ratio\n",
      "H/9 : Hits per 9 , Hits allowed per 9 innings\n",
      "HR/9 : Home Runs per 9 , Home runs allowed per 9 innings\n",
      "AVG : Batting Average Against , Opponent batting average against pitcher\n",
      "WHIP : Walks + Hits per Inning , Base runners allowed per inning\n",
      "BABIP : Batting Avg on Balls in Play , Opponents’ success on balls in play\n",
      "LOB% : Left On Base % , Percentage of runners stranded on base\n",
      "FIP : Fielding Independent Pitching , ERA-like metric based on K, BB, HR only\n",
      "ERA- : ERA minus , ERA scaled to league (100 = average) lower is better\n",
      "FIP- : FIP minus , FIP scaled to league (100 = average) lower is better\n",
      "xFIP : Expected FIP , ERA-like estimator normalizing HR/FB rate\n",
      "K% : Strikeout Percentage , K per plate appearance\n",
      "BB% : Walk Percentage , BB per plate appearance\n",
      "SIERA : Skill Interactive ERA , ERA estimator considering batted-ball profile\n",
      "RS/9 : Run Support per 9 , Runs scored by pitcher’s team per 9 innings\n",
      "xERA : Expected ERA , ERA expected from Statcast batted-ball data\n",
      "CSW% : Called Strikes + Whiffs % , Percentage of pitches resulting in called strikes or whiffs\n",
      "EV : Exit Velocity , Average exit velocity on balls in play\n",
      "LA : Launch Angle , Average launch angle of batted balls\n",
      "Barrel% : Barrel Rate , Percentage of batted balls classified as barrels\n",
      "Stuff+ : Stuff+ , Pitch quality metric (FanGraphs+)\n",
      "Location+ : Location+ , Pitch location quality metric\n",
      "Pitching+ : Pitching+ , Overall pitching quality metric\n",
      "SL% : Slider Usage % , Percentage of sliders thrown\n",
      "CH% : Changeup Usage % , Percentage of changeups thrown\n",
      "FBv : Fastball Velocity , Average velocity of fastball\n",
      "SLv : Slider Velocity , Average velocity of slider\n",
      "wFB : Fastball Runs Above Avg , Run value of fastball\n",
      "wSL : Slider Runs Above Avg , Run value of slider\n",
      "wCH : Changeup Runs Above Avg , Run value of changeup\n"
     ]
    }
   ],
   "source": [
    "for col in pitching.columns:\n",
    "    feature_info(col, type='pitching')"
   ]
  },
  {
   "cell_type": "code",
   "execution_count": 8,
   "metadata": {},
   "outputs": [],
   "source": [
    "#Build a dictionary that holds team name, id, and abbreviation\n",
    "team_dict = {}\n",
    "\n",
    "for _, row in game_logs[['home_name', 'home_id', 'home_name_abbr']].drop_duplicates().iterrows():\n",
    "    team_dict[row['home_name_abbr']] = {\n",
    "        'name' : row['home_name'],\n",
    "        'id' : int(row['home_id'])\n",
    "    }"
   ]
  },
  {
   "cell_type": "code",
   "execution_count": 28,
   "metadata": {},
   "outputs": [
    {
     "data": {
      "text/plain": [
       "{'name': 'Arizona Diamondbacks', 'id': 109}"
      ]
     },
     "execution_count": 28,
     "metadata": {},
     "output_type": "execute_result"
    }
   ],
   "source": [
    "\n",
    "\n"
   ]
  },
  {
   "cell_type": "code",
   "execution_count": null,
   "metadata": {},
   "outputs": [],
   "source": [
    "#Concatenating Batting Stats(by team) into the game_logs dataframe"
   ]
  }
 ],
 "metadata": {
  "kernelspec": {
   "display_name": "base",
   "language": "python",
   "name": "python3"
  },
  "language_info": {
   "codemirror_mode": {
    "name": "ipython",
    "version": 3
   },
   "file_extension": ".py",
   "mimetype": "text/x-python",
   "name": "python",
   "nbconvert_exporter": "python",
   "pygments_lexer": "ipython3",
   "version": "3.12.4"
  }
 },
 "nbformat": 4,
 "nbformat_minor": 2
}
