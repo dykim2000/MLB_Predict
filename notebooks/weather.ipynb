{
 "cells": [
  {
   "cell_type": "markdown",
   "metadata": {},
   "source": [
    "## Scraping Weather Data\n",
    "Source : https://www.baseball-reference.com/boxes/\n",
    "\n",
    "From this website, I was able to access the .json file of the games, since the game_logs held game_ids. \n",
    "In the .json file, I scraped the weather data, and saved it as another csv file to integrate to my final_data file."
   ]
  },
  {
   "cell_type": "code",
   "execution_count": 23,
   "metadata": {},
   "outputs": [],
   "source": [
    "import pandas as pd\n",
    "import requests"
   ]
  },
  {
   "cell_type": "code",
   "execution_count": 24,
   "metadata": {},
   "outputs": [],
   "source": [
    "game_logs = pd.read_csv(\"../data/game_logs_2024.csv\")"
   ]
  },
  {
   "cell_type": "code",
   "execution_count": 26,
   "metadata": {},
   "outputs": [],
   "source": [
    "def fetch_weather(gamePk: int) -> dict:\n",
    "    url = f\"https://statsapi.mlb.com/api/v1.1/game/{gamePk}/feed/live\"\n",
    "    resp = requests.get(url)\n",
    "    if resp.status_code != 200:\n",
    "        return {\"temp\": None, \"condition\": None, \"wind\": None}\n",
    "\n",
    "    data = resp.json()\n",
    "    weather = data.get(\"gameData\", {}).get(\"weather\", {})\n",
    "    return {\n",
    "        \"game_id\" : gamePk,\n",
    "        \"temp\": weather.get(\"temp\"),\n",
    "        \"condition\": weather.get(\"condition\"),\n",
    "        \"wind\": weather.get(\"wind\")\n",
    "\n",
    "    }"
   ]
  },
  {
   "cell_type": "markdown",
   "metadata": {},
   "source": [
    "Note : I had to save the data by chuncks, since it took a very long time to scrape all the data (>20 minutes), and kept crashing for some reason."
   ]
  },
  {
   "cell_type": "code",
   "execution_count": 49,
   "metadata": {},
   "outputs": [
    {
     "data": {
      "text/plain": [
       "'\\n### RUN ONLY ONCE, TAKES A LONG TIME ###\\n\\nweather_list = []\\nfor i, gamePk in enumerate(game_logs[\"game_id\"], start=1):\\n    w = fetch_weather(gamePk)\\n    weather_list.append(w)\\n\\n    if i % 100 == 0:  # save progress\\n        pd.DataFrame(weather_list).to_csv(f\"../data/weather/weather_partial_{i}.csv\", index=False)\\n        print(f\"Saved {i}/{len(game_logs)} games\")\\n        weather_list = []  # reset chunk\\npd.DataFrame(weather_list).to_csv(f\"../data/weather/weather_partial_{3000}.csv\", index=False) #last chunck\\n'"
      ]
     },
     "execution_count": 49,
     "metadata": {},
     "output_type": "execute_result"
    }
   ],
   "source": [
    "'''\n",
    "### RUN ONLY ONCE, TAKES A LONG TIME ###\n",
    "\n",
    "weather_list = []\n",
    "for i, gamePk in enumerate(game_logs[\"game_id\"], start=1):\n",
    "    w = fetch_weather(gamePk)\n",
    "    weather_list.append(w)\n",
    "\n",
    "    if i % 100 == 0:  # save progress\n",
    "        pd.DataFrame(weather_list).to_csv(f\"../data/weather/weather_partial_{i}.csv\", index=False)\n",
    "        print(f\"Saved {i}/{len(game_logs)} games\")\n",
    "        weather_list = []  # reset chunk\n",
    "pd.DataFrame(weather_list).to_csv(f\"../data/weather/weather_partial_{3000}.csv\", index=False) #last chunck\n",
    "'''"
   ]
  },
  {
   "cell_type": "markdown",
   "metadata": {},
   "source": [
    "#### Taking all the partial chuncks and putting them together"
   ]
  },
  {
   "cell_type": "code",
   "execution_count": 56,
   "metadata": {},
   "outputs": [
    {
     "name": "stdout",
     "output_type": "stream",
     "text": [
      "Shape :  (2998, 4)\n"
     ]
    }
   ],
   "source": [
    "import glob \n",
    "\n",
    "weather_files = glob.glob(\"../data/weather/weather_partial_*.csv\")\n",
    "weather_dfs = [pd.read_csv(f) for f in weather_files]\n",
    "weather_joined = pd.concat(weather_dfs, ignore_index=True)\n",
    "print(\"Shape : \", weather_joined.shape)\n",
    "\n",
    "final_game_logs = pd.read_csv(\"../data/final_game_logs.csv\")\n",
    "final_game_logs.merge(weather_joined, on=\"game_id\", how=\"left\").to_csv(\"../data/final_game_logs.csv\")"
   ]
  },
  {
   "cell_type": "markdown",
   "metadata": {},
   "source": [
    "Weather data was successfully added to the final_game_logs. Preprocessing the data (turning strings to numerical values) will be in preprocessing.ipynb."
   ]
  },
  {
   "cell_type": "code",
   "execution_count": null,
   "metadata": {},
   "outputs": [],
   "source": []
  }
 ],
 "metadata": {
  "kernelspec": {
   "display_name": "Python 3 (ipykernel)",
   "language": "python",
   "name": "python3"
  },
  "language_info": {
   "codemirror_mode": {
    "name": "ipython",
    "version": 3
   },
   "file_extension": ".py",
   "mimetype": "text/x-python",
   "name": "python",
   "nbconvert_exporter": "python",
   "pygments_lexer": "ipython3",
   "version": "3.12.4"
  }
 },
 "nbformat": 4,
 "nbformat_minor": 4
}
