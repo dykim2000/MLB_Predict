{
 "cells": [
  {
   "cell_type": "markdown",
   "id": "8683d73a-25d2-4c86-8a2d-0e4c3d460664",
   "metadata": {},
   "source": [
    "## Scraping Lineup Data\n",
    "Source : https://www.baseball-reference.com/boxes/\n",
    "\n",
    "Same for weather.ipynb, I was able to scrap lineup scores from the same website. <br/>\n",
    "Lineup Scores are basically the average OPS(season-to-date) of the starting lineup."
   ]
  },
  {
   "cell_type": "code",
   "execution_count": 7,
   "id": "533bfe44-f90d-4bdd-a54b-fc69c7886208",
   "metadata": {},
   "outputs": [],
   "source": [
    "import pandas as pd\n",
    "import requests\n",
    "import time"
   ]
  },
  {
   "cell_type": "code",
   "execution_count": 3,
   "id": "4c6cf252-32f8-461b-b645-f634f187530e",
   "metadata": {},
   "outputs": [],
   "source": [
    "game_logs = pd.read_csv(\"../data/final_game_logs.csv\")"
   ]
  },
  {
   "cell_type": "markdown",
   "id": "f5fbe24b-3e7c-475e-b342-e4f157cb270f",
   "metadata": {},
   "source": [
    "<b>Function for safe float conversion</b>"
   ]
  },
  {
   "cell_type": "code",
   "execution_count": 9,
   "id": "65288d89-5e27-4323-a671-af5970b98847",
   "metadata": {},
   "outputs": [],
   "source": [
    "def safe_float(v):\n",
    "    try:\n",
    "        return float(v)\n",
    "    except:\n",
    "        return None"
   ]
  },
  {
   "cell_type": "markdown",
   "id": "d4f0a5d7-4b8c-47e9-a49d-dd7106acc082",
   "metadata": {},
   "source": [
    "<b>Function for extracting OPS of a player</b>"
   ]
  },
  {
   "cell_type": "code",
   "execution_count": 11,
   "id": "9c1972b4-5a43-4497-a2fc-5024d8577ae9",
   "metadata": {},
   "outputs": [],
   "source": [
    "def extract_ops(player_obj):\n",
    "    batting = player_obj.get(\"seasonStats\", {}).get(\"batting\", {})\n",
    "    ops = safe_float(batting.get(\"ops\"))\n",
    "    if ops is not None:\n",
    "        return ops\n",
    "    return None"
   ]
  },
  {
   "cell_type": "markdown",
   "id": "aae46b1a-20db-4dce-b46f-fc5801dd66ed",
   "metadata": {},
   "source": [
    "<b>Function for getting sorting lineup</b>"
   ]
  },
  {
   "cell_type": "code",
   "execution_count": 13,
   "id": "a0048159-0052-498b-b11e-d6a2ad38f8a1",
   "metadata": {},
   "outputs": [],
   "source": [
    "def get_starters(players_dict):\n",
    "    starters = []\n",
    "    for p in players_dict.values():\n",
    "        if \"battingOrder\" in p:\n",
    "            starters.append(p)\n",
    "    starters.sort(key=lambda x : int(x.get(\"battingOrder\", \"999\"))) #999 = Fail Code\n",
    "    return starters"
   ]
  },
  {
   "cell_type": "markdown",
   "id": "148a50bb-8f38-45da-8566-2b33534c25d4",
   "metadata": {},
   "source": [
    "<b>Function for scraping by game_id, retreiving home/away starting lineups, and evaluating lineup score</b>"
   ]
  },
  {
   "cell_type": "code",
   "execution_count": 17,
   "id": "370e0fc2-9f63-4183-bf73-2d90096e2162",
   "metadata": {},
   "outputs": [],
   "source": [
    "def lineup_score(gameid):\n",
    "    url = f\"https://statsapi.mlb.com/api/v1/game/{gameid}/boxscore\"\n",
    "    r = requests.get(url, timeout=30)\n",
    "    if r.status_code != 200:\n",
    "        return None\n",
    "    data = r.json()\n",
    "\n",
    "    teams = data.get(\"teams\", {})\n",
    "    home_players = teams.get(\"home\", {}).get(\"players\", {})\n",
    "    away_players = teams.get(\"away\", {}).get(\"players\", {})\n",
    "\n",
    "    home_ops = []\n",
    "    for p in get_starters(home_players):\n",
    "        ops_val = extract_ops(p)\n",
    "        if ops_val is not None:\n",
    "            home_ops.append(ops_val)\n",
    "\n",
    "    away_ops = []\n",
    "    for p in get_starters(away_players):\n",
    "        ops_val = extract_ops(p)\n",
    "        if ops_val is not None:\n",
    "            away_ops.append(ops_val)\n",
    "\n",
    "    return {\n",
    "        \"game_id\" : gameid,\n",
    "        \"home_lineup_score\" : sum(home_ops)/len(home_ops) if home_ops else None,\n",
    "        \"away_lineup_score\" : sum(away_ops)/len(away_ops) if home_ops else None,\n",
    "        \"home_n_starters\" : len(home_ops),\n",
    "        \"away_n_starters\" : len(away_ops)\n",
    "    }"
   ]
  },
  {
   "cell_type": "code",
   "execution_count": 31,
   "id": "0d25e030-412b-4c1e-8488-0ad5652a8b40",
   "metadata": {},
   "outputs": [
    {
     "name": "stdout",
     "output_type": "stream",
     "text": [
      "100/3080 games processed\n",
      "200/3080 games processed\n",
      "300/3080 games processed\n",
      "400/3080 games processed\n",
      "500/3080 games processed\n",
      "600/3080 games processed\n",
      "700/3080 games processed\n",
      "800/3080 games processed\n",
      "900/3080 games processed\n",
      "1000/3080 games processed\n",
      "1100/3080 games processed\n",
      "1200/3080 games processed\n",
      "1300/3080 games processed\n",
      "1400/3080 games processed\n",
      "1500/3080 games processed\n",
      "1600/3080 games processed\n",
      "1700/3080 games processed\n",
      "1800/3080 games processed\n",
      "1900/3080 games processed\n",
      "2000/3080 games processed\n",
      "2100/3080 games processed\n",
      "2200/3080 games processed\n",
      "2300/3080 games processed\n",
      "2400/3080 games processed\n",
      "2500/3080 games processed\n",
      "2600/3080 games processed\n",
      "2700/3080 games processed\n",
      "2800/3080 games processed\n",
      "2900/3080 games processed\n",
      "3000/3080 games processed\n",
      "3080/3080 games processed\n"
     ]
    }
   ],
   "source": [
    "# Run Only Once, May take a while\n",
    "results = []\n",
    "total_games = len(game_logs)\n",
    "for i, id in enumerate(game_logs['game_id'], start=1):\n",
    "    try:\n",
    "        row = lineup_score(id)\n",
    "        results.append(row)\n",
    "    except Exception as e:\n",
    "        print(f\"Error {id}: {e}\")\n",
    "    time.sleep(0.05)\n",
    "    \n",
    "    if i % 100 == 0 or i == total_games:\n",
    "        print(f\"{i}/{total_games} games processed\")\n",
    "    "
   ]
  },
  {
   "cell_type": "code",
   "execution_count": 37,
   "id": "7f32f5f6-e991-46eb-a5be-1513581e162b",
   "metadata": {},
   "outputs": [],
   "source": [
    "df = pd.DataFrame(results)\n",
    "df.to_csv(\"../data/lineup_score.csv\")"
   ]
  },
  {
   "cell_type": "markdown",
   "id": "bcb41444-9940-48bf-961f-10a0778b9d34",
   "metadata": {},
   "source": [
    "<hr>\n",
    "\n",
    "#### Visualization of the Lineup Score"
   ]
  },
  {
   "cell_type": "code",
   "execution_count": 58,
   "id": "d05c1fe7-94a3-452a-be90-73d999c4a5b8",
   "metadata": {},
   "outputs": [
    {
     "data": {
      "image/png": "[encoded data removed]",
      "text/plain": [
       "<Figure size 1000x500 with 1 Axes>"
      ]
     },
     "metadata": {},
     "output_type": "display_data"
    }
   ],
   "source": [
    "import matplotlib.pyplot as plt\n",
    "plt.figure(figsize=(10,5))\n",
    "df['home_lineup_score'].hist(bins=30, label=\"Home OPS\", alpha=0.6, edgecolor='black')\n",
    "df['away_lineup_score'].hist(bins=30, label=\"Away OPS\", alpha=0.6, edgecolor='black')\n",
    "plt.title(\"Distribution of Lineup OPS (Home vs Away)\")\n",
    "plt.legend()\n",
    "plt.show()"
   ]
  },
  {
   "cell_type": "markdown",
   "id": "44a48bae-bb02-4256-8c32-e050fef35add",
   "metadata": {},
   "source": [
    "#### Concatenating with the final_game_logs.csv File"
   ]
  },
  {
   "cell_type": "code",
   "execution_count": 63,
   "id": "6ce16b74-95f8-491a-860b-43d02a31e20b",
   "metadata": {},
   "outputs": [],
   "source": [
    "merged = game_logs.merge(df, on=\"game_id\", how=\"left\")\n",
    "merged.to_csv(\"../data/final_game_logs.csv\", index=False)"
   ]
  },
  {
   "cell_type": "code",
   "execution_count": 9,
   "id": "9c5ffc75-a9d1-4c50-ba79-dbfd6ded9390",
   "metadata": {},
   "outputs": [],
   "source": [
    "data = pd.read_csv(\"../data/final_game_logs.csv\")"
   ]
  },
  {
   "cell_type": "code",
   "execution_count": 11,
   "id": "c64edad1-773c-4e9b-813a-f2126542b794",
   "metadata": {},
   "outputs": [
    {
     "data": {
      "text/html": [
       "<div>\n",
       "<style scoped>\n",
       "    .dataframe tbody tr th:only-of-type {\n",
       "        vertical-align: middle;\n",
       "    }\n",
       "\n",
       "    .dataframe tbody tr th {\n",
       "        vertical-align: top;\n",
       "    }\n",
       "\n",
       "    .dataframe thead th {\n",
       "        text-align: right;\n",
       "    }\n",
       "</style>\n",
       "<table border=\"1\" class=\"dataframe\">\n",
       "  <thead>\n",
       "    <tr style=\"text-align: right;\">\n",
       "      <th></th>\n",
       "      <th>Unnamed: 0</th>\n",
       "      <th>game_id</th>\n",
       "      <th>home_name</th>\n",
       "      <th>away_name</th>\n",
       "      <th>home_probable_pitcher</th>\n",
       "      <th>away_probable_pitcher</th>\n",
       "      <th>away_score</th>\n",
       "      <th>home_score</th>\n",
       "      <th>home_ERA</th>\n",
       "      <th>home_ER</th>\n",
       "      <th>...</th>\n",
       "      <th>away_home_SO_batting</th>\n",
       "      <th>away_home_IBB</th>\n",
       "      <th>temp</th>\n",
       "      <th>condition</th>\n",
       "      <th>wind</th>\n",
       "      <th>condition_code</th>\n",
       "      <th>home_lineup_score</th>\n",
       "      <th>away_lineup_score</th>\n",
       "      <th>home_n_starters</th>\n",
       "      <th>away_n_starters</th>\n",
       "    </tr>\n",
       "  </thead>\n",
       "  <tbody>\n",
       "    <tr>\n",
       "      <th>0</th>\n",
       "      <td>0</td>\n",
       "      <td>748266</td>\n",
       "      <td>San Diego Padres</td>\n",
       "      <td>Los Angeles Dodgers</td>\n",
       "      <td>Joe Musgrove</td>\n",
       "      <td>Gavin Stone</td>\n",
       "      <td>14</td>\n",
       "      <td>1</td>\n",
       "      <td>3.88</td>\n",
       "      <td>43.0</td>\n",
       "      <td>...</td>\n",
       "      <td>1336.0</td>\n",
       "      <td>33.0</td>\n",
       "      <td>71.0</td>\n",
       "      <td>Sunny</td>\n",
       "      <td>3.0</td>\n",
       "      <td>2</td>\n",
       "      <td>0.614000</td>\n",
       "      <td>0.833250</td>\n",
       "      <td>19</td>\n",
       "      <td>20</td>\n",
       "    </tr>\n",
       "    <tr>\n",
       "      <th>1</th>\n",
       "      <td>1</td>\n",
       "      <td>748344</td>\n",
       "      <td>Boston Red Sox</td>\n",
       "      <td>Northeastern Huskies</td>\n",
       "      <td>Helcris Olivárez</td>\n",
       "      <td>Aiven Cabral</td>\n",
       "      <td>2</td>\n",
       "      <td>7</td>\n",
       "      <td>NaN</td>\n",
       "      <td>NaN</td>\n",
       "      <td>...</td>\n",
       "      <td>NaN</td>\n",
       "      <td>NaN</td>\n",
       "      <td>75.0</td>\n",
       "      <td>Partly Cloudy</td>\n",
       "      <td>16.0</td>\n",
       "      <td>0</td>\n",
       "      <td>0.951000</td>\n",
       "      <td>0.453722</td>\n",
       "      <td>17</td>\n",
       "      <td>18</td>\n",
       "    </tr>\n",
       "    <tr>\n",
       "      <th>2</th>\n",
       "      <td>2</td>\n",
       "      <td>748263</td>\n",
       "      <td>Texas Rangers</td>\n",
       "      <td>Kansas City Royals</td>\n",
       "      <td>Dane Dunning</td>\n",
       "      <td>Daniel Lynch IV</td>\n",
       "      <td>4</td>\n",
       "      <td>5</td>\n",
       "      <td>5.31</td>\n",
       "      <td>56.0</td>\n",
       "      <td>...</td>\n",
       "      <td>1161.0</td>\n",
       "      <td>22.0</td>\n",
       "      <td>76.0</td>\n",
       "      <td>Partly Cloudy</td>\n",
       "      <td>9.0</td>\n",
       "      <td>0</td>\n",
       "      <td>0.648111</td>\n",
       "      <td>0.583333</td>\n",
       "      <td>18</td>\n",
       "      <td>18</td>\n",
       "    </tr>\n",
       "    <tr>\n",
       "      <th>3</th>\n",
       "      <td>3</td>\n",
       "      <td>748341</td>\n",
       "      <td>Chicago Cubs</td>\n",
       "      <td>Chicago White Sox</td>\n",
       "      <td>Jordan Wicks</td>\n",
       "      <td>Jesse Chavez</td>\n",
       "      <td>1</td>\n",
       "      <td>8</td>\n",
       "      <td>5.48</td>\n",
       "      <td>28.0</td>\n",
       "      <td>...</td>\n",
       "      <td>1403.0</td>\n",
       "      <td>8.0</td>\n",
       "      <td>75.0</td>\n",
       "      <td>Cloudy</td>\n",
       "      <td>6.0</td>\n",
       "      <td>3</td>\n",
       "      <td>0.666556</td>\n",
       "      <td>0.287000</td>\n",
       "      <td>18</td>\n",
       "      <td>18</td>\n",
       "    </tr>\n",
       "    <tr>\n",
       "      <th>4</th>\n",
       "      <td>4</td>\n",
       "      <td>748260</td>\n",
       "      <td>Los Angeles Dodgers</td>\n",
       "      <td>San Diego Padres</td>\n",
       "      <td>Landon Knack</td>\n",
       "      <td>Jhony Brito</td>\n",
       "      <td>1</td>\n",
       "      <td>4</td>\n",
       "      <td>3.65</td>\n",
       "      <td>28.0</td>\n",
       "      <td>...</td>\n",
       "      <td>1077.0</td>\n",
       "      <td>18.0</td>\n",
       "      <td>76.0</td>\n",
       "      <td>Cloudy</td>\n",
       "      <td>5.0</td>\n",
       "      <td>3</td>\n",
       "      <td>0.962647</td>\n",
       "      <td>0.271895</td>\n",
       "      <td>17</td>\n",
       "      <td>19</td>\n",
       "    </tr>\n",
       "  </tbody>\n",
       "</table>\n",
       "<p>5 rows × 44 columns</p>\n",
       "</div>"
      ],
      "text/plain": [
       "   Unnamed: 0  game_id            home_name             away_name  \\\n",
       "0           0   748266     San Diego Padres   Los Angeles Dodgers   \n",
       "1           1   748344       Boston Red Sox  Northeastern Huskies   \n",
       "2           2   748263        Texas Rangers    Kansas City Royals   \n",
       "3           3   748341         Chicago Cubs     Chicago White Sox   \n",
       "4           4   748260  Los Angeles Dodgers      San Diego Padres   \n",
       "\n",
       "  home_probable_pitcher away_probable_pitcher  away_score  home_score  \\\n",
       "0          Joe Musgrove           Gavin Stone          14           1   \n",
       "1      Helcris Olivárez          Aiven Cabral           2           7   \n",
       "2          Dane Dunning       Daniel Lynch IV           4           5   \n",
       "3          Jordan Wicks          Jesse Chavez           1           8   \n",
       "4          Landon Knack           Jhony Brito           1           4   \n",
       "\n",
       "   home_ERA  home_ER  ...  away_home_SO_batting  away_home_IBB  temp  \\\n",
       "0      3.88     43.0  ...                1336.0           33.0  71.0   \n",
       "1       NaN      NaN  ...                   NaN            NaN  75.0   \n",
       "2      5.31     56.0  ...                1161.0           22.0  76.0   \n",
       "3      5.48     28.0  ...                1403.0            8.0  75.0   \n",
       "4      3.65     28.0  ...                1077.0           18.0  76.0   \n",
       "\n",
       "       condition  wind  condition_code  home_lineup_score  away_lineup_score  \\\n",
       "0          Sunny   3.0               2           0.614000           0.833250   \n",
       "1  Partly Cloudy  16.0               0           0.951000           0.453722   \n",
       "2  Partly Cloudy   9.0               0           0.648111           0.583333   \n",
       "3         Cloudy   6.0               3           0.666556           0.287000   \n",
       "4         Cloudy   5.0               3           0.962647           0.271895   \n",
       "\n",
       "   home_n_starters  away_n_starters  \n",
       "0               19               20  \n",
       "1               17               18  \n",
       "2               18               18  \n",
       "3               18               18  \n",
       "4               17               19  \n",
       "\n",
       "[5 rows x 44 columns]"
      ]
     },
     "execution_count": 11,
     "metadata": {},
     "output_type": "execute_result"
    }
   ],
   "source": [
    "data.head()"
   ]
  },
  {
   "cell_type": "code",
   "execution_count": 41,
   "id": "7ef55862-02a8-4aeb-950d-a56013ec0aad",
   "metadata": {},
   "outputs": [
    {
     "data": {
      "text/plain": [
       "<Axes: >"
      ]
     },
     "execution_count": 41,
     "metadata": {},
     "output_type": "execute_result"
    },
    {
     "data": {
      "image/png": "[encoded data removed]",
      "text/plain": [
       "<Figure size 640x480 with 1 Axes>"
      ]
     },
     "metadata": {},
     "output_type": "display_data"
    }
   ],
   "source": [
    "data[data['condition_code'] == 3]['home_lineup_score'].hist(bins=30, edgecolor='black', alpha=0.6)\n",
    "data[data['condition_code'] == 9]['home_lineup_score'].hist(bins=30, edgecolor='black', alpha=0.6)"
   ]
  },
  {
   "cell_type": "code",
   "execution_count": 39,
   "id": "5347551d-f287-4b2e-ac60-471b2096d277",
   "metadata": {},
   "outputs": [
    {
     "data": {
      "text/plain": [
       "condition\n",
       "Partly Cloudy    1040\n",
       "Clear             653\n",
       "Cloudy            589\n",
       "Sunny             577\n",
       "Roof Closed       381\n",
       "Overcast          248\n",
       "Dome               89\n",
       "Drizzle            33\n",
       "Unknown            20\n",
       "Rain               14\n",
       "Name: count, dtype: int64"
      ]
     },
     "execution_count": 39,
     "metadata": {},
     "output_type": "execute_result"
    }
   ],
   "source": [
    "data['condition'].value_counts()"
   ]
  },
  {
   "cell_type": "code",
   "execution_count": null,
   "id": "c3f706ae-1711-43f8-b286-458c0d2f3a42",
   "metadata": {},
   "outputs": [],
   "source": []
  }
 ],
 "metadata": {
  "kernelspec": {
   "display_name": "Python 3 (ipykernel)",
   "language": "python",
   "name": "python3"
  },
  "language_info": {
   "codemirror_mode": {
    "name": "ipython",
    "version": 3
   },
   "file_extension": ".py",
   "mimetype": "text/x-python",
   "name": "python",
   "nbconvert_exporter": "python",
   "pygments_lexer": "ipython3",
   "version": "3.12.4"
  }
 },
 "nbformat": 4,
 "nbformat_minor": 5
}
