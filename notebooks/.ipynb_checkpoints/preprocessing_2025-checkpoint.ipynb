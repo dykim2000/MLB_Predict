{
 "cells": [
  {
   "cell_type": "code",
   "execution_count": 110,
   "id": "2578ca85-113c-4ca2-a225-591065859855",
   "metadata": {},
   "outputs": [],
   "source": [
    "import statsapi\n",
    "import pandas as pd"
   ]
  },
  {
   "cell_type": "code",
   "execution_count": 111,
   "id": "de4abf90-a0a4-4c2e-ab80-ba2930c90c0a",
   "metadata": {},
   "outputs": [],
   "source": [
    "game_logs = statsapi.schedule(start_date='01/01/2025', end_date='08/31/2025')\n",
    "game_logs = pd.DataFrame(game_logs)\n",
    "pitching = pd.read_csv(\"../data/pitching_stats_2025.csv\")\n",
    "batting = pd.read_csv(\"../data/team_batting_stats_2025.csv\")"
   ]
  },
  {
   "cell_type": "code",
   "execution_count": 112,
   "id": "9867f95f-b4db-47bf-92b4-02d48ecb040d",
   "metadata": {},
   "outputs": [],
   "source": [
    "# RUN ONLY ONCE\n",
    "import re\n",
    "pitching['Player'] = pitching['Player'].str.replace(r'[*#]$', '', regex=True).str.strip() # Remove * or #\n",
    "pitching = pitching.drop_duplicates(subset='Player', keep='first')\n",
    "\n",
    "batting = batting.rename(columns = {'SO' : 'SO_batting'})\n",
    "batting = batting.rename(columns = {'BB' : 'BB_batting'})"
   ]
  },
  {
   "cell_type": "code",
   "execution_count": 113,
   "id": "149b3763-25c2-4567-971e-e38da6f754a1",
   "metadata": {},
   "outputs": [],
   "source": [
    "game_logs = game_logs[['game_id','home_name', 'away_name', 'home_probable_pitcher','away_probable_pitcher', 'away_score', 'home_score']]\n",
    "pitching_features = pitching[['Player', 'ERA', 'ER', 'R', 'SO','BB', 'SO/BB', 'WHIP']]\n",
    "batting_features = batting[['Tm', 'OBP', 'SLG', 'HR', 'R/G', 'BB_batting', 'SO_batting', 'IBB']]\n",
    "\n",
    "#Merge Home Pitcher\n",
    "pitching_home = pitching_features.copy()\n",
    "pitching_home.columns = ['home_' + col if col != 'Player' else col for col in pitching_home.columns]\n",
    "game_logs = game_logs.merge(\n",
    "    pitching_home,\n",
    "    left_on = 'home_probable_pitcher',\n",
    "    right_on = 'Player',\n",
    "    how = 'left',\n",
    ").drop(columns=['Player'])\n",
    "\n",
    "#Merge Away Pitcher\n",
    "pitching_away = pitching_features.copy()\n",
    "pitching_away.columns = ['away_' + col if col != 'Player' else col for col in pitching_away.columns]\n",
    "game_logs = game_logs.merge(\n",
    "    pitching_away,\n",
    "    left_on = 'away_probable_pitcher',\n",
    "    right_on = 'Player',\n",
    "    how = 'left',\n",
    ").drop(columns=['Player'])\n",
    "\n",
    "#Merge Home Batters\n",
    "batting_home = batting_features.copy()\n",
    "batting_home.columns = ['home_' + col if col != 'Tm' else col for col in batting_home.columns]\n",
    "game_logs = game_logs.merge(\n",
    "    batting_home,\n",
    "    left_on = 'home_name',\n",
    "    right_on = 'Tm',\n",
    "    how = 'left',\n",
    ").drop(columns=['Tm'])\n",
    "\n",
    "#Merge Away Batters\n",
    "batting_away = batting_features.copy()\n",
    "batting_away.columns = ['away_' + col if col != 'Tm' else col for col in batting_home.columns]\n",
    "game_logs = game_logs.merge(\n",
    "    batting_away,\n",
    "    left_on = 'away_name',\n",
    "    right_on = 'Tm',\n",
    "    how = 'left',\n",
    ").drop(columns=['Tm'])"
   ]
  },
  {
   "cell_type": "code",
   "execution_count": 114,
   "id": "7850952e-e191-402c-ac03-1947613bf8f3",
   "metadata": {},
   "outputs": [
    {
     "name": "stdout",
     "output_type": "stream",
     "text": [
      "Saved 100/2574 games\n",
      "Saved 200/2574 games\n",
      "Saved 300/2574 games\n",
      "Saved 400/2574 games\n",
      "Saved 500/2574 games\n",
      "Saved 600/2574 games\n",
      "Saved 700/2574 games\n",
      "Saved 800/2574 games\n",
      "Saved 900/2574 games\n",
      "Saved 1000/2574 games\n",
      "Saved 1100/2574 games\n",
      "Saved 1200/2574 games\n",
      "Saved 1300/2574 games\n",
      "Saved 1400/2574 games\n",
      "Saved 1500/2574 games\n",
      "Saved 1600/2574 games\n",
      "Saved 1700/2574 games\n",
      "Saved 1800/2574 games\n",
      "Saved 1900/2574 games\n",
      "Saved 2000/2574 games\n",
      "Saved 2100/2574 games\n",
      "Saved 2200/2574 games\n",
      "Saved 2300/2574 games\n",
      "Saved 2400/2574 games\n",
      "Saved 2500/2574 games\n"
     ]
    }
   ],
   "source": [
    "'''\n",
    "import requests\n",
    "def fetch_weather(gamePk: int) -> dict:\n",
    "    url = f\"https://statsapi.mlb.com/api/v1.1/game/{gamePk}/feed/live\"\n",
    "    resp = requests.get(url)\n",
    "    if resp.status_code != 200:\n",
    "        return {\"temp\": None, \"condition\": None, \"wind\": None}\n",
    "\n",
    "    data = resp.json()\n",
    "    weather = data.get(\"gameData\", {}).get(\"weather\", {})\n",
    "    return {\n",
    "        \"game_id\" : gamePk,\n",
    "        \"temp\": weather.get(\"temp\"),\n",
    "        \"condition\": weather.get(\"condition\"),\n",
    "        \"wind\": weather.get(\"wind\")\n",
    "\n",
    "    }\n",
    "\n",
    "weather_list = []\n",
    "for i, gamePk in enumerate(game_logs[\"game_id\"], start=1):\n",
    "    w = fetch_weather(gamePk)\n",
    "    weather_list.append(w)\n",
    "    if i % 100 == 0:\n",
    "        print(f\"Saved {i}/{len(game_logs)} games\")\n",
    "'''"
   ]
  },
  {
   "cell_type": "code",
   "execution_count": 115,
   "id": "3db30d07-ddc8-4f88-8d53-620f52aeb220",
   "metadata": {},
   "outputs": [],
   "source": [
    "weather_list = pd.DataFrame(weather_list)\n",
    "game_logs = game_logs.merge(weather_list, on='game_id', how='left')"
   ]
  },
  {
   "cell_type": "code",
   "execution_count": 116,
   "id": "ab359115-c207-41a8-8056-847af9e6fc58",
   "metadata": {},
   "outputs": [],
   "source": [
    "game_logs[\"condition\"] = game_logs[\"condition\"].astype(\"category\")\n",
    "condition_dummies = pd.get_dummies(game_logs[\"condition\"], prefix=\"condition\")\n",
    "game_logs = pd.concat([game_logs, condition_dummies], axis=1)"
   ]
  },
  {
   "cell_type": "code",
   "execution_count": 117,
   "id": "7d8330fb-5a20-4916-8847-0d943cb3cfb6",
   "metadata": {},
   "outputs": [],
   "source": [
    "game_logs.to_csv(\"../data/final_game_logs_2025.csv\")"
   ]
  },
  {
   "cell_type": "code",
   "execution_count": 136,
   "id": "d6d27ed9-bc89-41d1-a01b-a3bbb3550135",
   "metadata": {},
   "outputs": [],
   "source": [
    "import time\n",
    "def safe_float(v):\n",
    "    try:\n",
    "        return float(v)\n",
    "    except:\n",
    "        return None\n",
    "\n",
    "def extract_ops(player_obj):\n",
    "    batting = player_obj.get(\"seasonStats\", {}).get(\"batting\", {})\n",
    "    ops = safe_float(batting.get(\"ops\"))\n",
    "    if ops is not None:\n",
    "        return ops\n",
    "    return None\n",
    "\n",
    "def get_starters(players_dict):\n",
    "    starters = []\n",
    "    for p in players_dict.values():\n",
    "        if \"battingOrder\" in p:\n",
    "            starters.append(p)\n",
    "    starters.sort(key=lambda x : int(x.get(\"battingOrder\", \"999\"))) #999 = Fail Code\n",
    "    return starters\n",
    "\n",
    "def lineup_score(gameid):\n",
    "    url = f\"https://statsapi.mlb.com/api/v1/game/{gameid}/boxscore\"\n",
    "    r = requests.get(url, timeout=30)\n",
    "    if r.status_code != 200:\n",
    "        return None\n",
    "    data = r.json()\n",
    "\n",
    "    teams = data.get(\"teams\", {})\n",
    "    home_players = teams.get(\"home\", {}).get(\"players\", {})\n",
    "    away_players = teams.get(\"away\", {}).get(\"players\", {})\n",
    "\n",
    "    home_ops = []\n",
    "    for p in get_starters(home_players):\n",
    "        ops_val = extract_ops(p)\n",
    "        if ops_val is not None:\n",
    "            home_ops.append(ops_val)\n",
    "\n",
    "    away_ops = []\n",
    "    for p in get_starters(away_players):\n",
    "        ops_val = extract_ops(p)\n",
    "        if ops_val is not None:\n",
    "            away_ops.append(ops_val)\n",
    "\n",
    "    return {\n",
    "        \"game_id\" : gameid,\n",
    "        \"home_lineup_score\" : sum(home_ops)/len(home_ops) if home_ops else None,\n",
    "        \"away_lineup_score\" : sum(away_ops)/len(away_ops) if home_ops else None,\n",
    "        \"home_n_starters\" : len(home_ops),\n",
    "        \"away_n_starters\" : len(away_ops)\n",
    "    }"
   ]
  },
  {
   "cell_type": "code",
   "execution_count": 119,
   "id": "a953b698-9c7b-43bf-8774-dc851a3699e5",
   "metadata": {},
   "outputs": [
    {
     "name": "stdout",
     "output_type": "stream",
     "text": [
      "100/2638 games processed\n",
      "200/2638 games processed\n",
      "300/2638 games processed\n",
      "400/2638 games processed\n",
      "500/2638 games processed\n",
      "600/2638 games processed\n",
      "700/2638 games processed\n",
      "800/2638 games processed\n",
      "900/2638 games processed\n",
      "1000/2638 games processed\n",
      "1100/2638 games processed\n",
      "1200/2638 games processed\n",
      "1300/2638 games processed\n",
      "1400/2638 games processed\n",
      "1500/2638 games processed\n",
      "1600/2638 games processed\n",
      "1700/2638 games processed\n",
      "1800/2638 games processed\n",
      "1900/2638 games processed\n",
      "2000/2638 games processed\n",
      "2100/2638 games processed\n",
      "Error 777009: HTTPSConnectionPool(host='statsapi.mlb.com', port=443): Read timed out. (read timeout=30)\n",
      "Error 777011: HTTPSConnectionPool(host='statsapi.mlb.com', port=443): Read timed out.\n",
      "2200/2638 games processed\n",
      "2300/2638 games processed\n",
      "2400/2638 games processed\n",
      "2500/2638 games processed\n",
      "2600/2638 games processed\n",
      "2638/2638 games processed\n"
     ]
    }
   ],
   "source": [
    "# Run Only Once, May take a while\n",
    "results = []\n",
    "total_games = len(game_logs)\n",
    "for i, id in enumerate(game_logs['game_id'], start=1):\n",
    "    try:\n",
    "        row = lineup_score(id)\n",
    "        results.append(row)\n",
    "    except Exception as e:\n",
    "        print(f\"Error {id}: {e}\")\n",
    "    time.sleep(0.05)\n",
    "    \n",
    "    if i % 100 == 0 or i == total_games:\n",
    "        print(f\"{i}/{total_games} games processed\")\n"
   ]
  },
  {
   "cell_type": "code",
   "execution_count": 120,
   "id": "35751e20-38f5-4a24-a2af-1127b454a5f2",
   "metadata": {},
   "outputs": [],
   "source": [
    "results = pd.DataFrame(results)\n",
    "game_logs = game_logs.merge(results, on=\"game_id\", how=\"left\")"
   ]
  },
  {
   "cell_type": "code",
   "execution_count": 130,
   "id": "63c372c1-eb54-4c5b-a47c-4b7f11a4cdd4",
   "metadata": {},
   "outputs": [
    {
     "data": {
      "text/plain": [
       "(3022, 52)"
      ]
     },
     "execution_count": 130,
     "metadata": {},
     "output_type": "execute_result"
    }
   ],
   "source": [
    "game_logs.shape"
   ]
  },
  {
   "cell_type": "code",
   "execution_count": 145,
   "id": "b2cc5a49-18f7-43ef-8831-611b016d83f3",
   "metadata": {},
   "outputs": [
    {
     "name": "stdout",
     "output_type": "stream",
     "text": [
      "2542\n",
      "2542\n"
     ]
    }
   ],
   "source": [
    "game_logs.drop_duplicates(subset=[\"game_id\"], inplace=True)\n",
    "print(len(game_logs))\n",
    "print(game_logs[\"game_id\"].nunique())"
   ]
  },
  {
   "cell_type": "code",
   "execution_count": 149,
   "id": "0583949e-3d7a-412a-9f5d-d1910eb3f3cb",
   "metadata": {},
   "outputs": [],
   "source": [
    "game_logs.to_csv(\"../data/final_game_logs_2025.csv\", index=False)"
   ]
  },
  {
   "cell_type": "markdown",
   "id": "156b1b2a-e5e1-488d-bac8-53b8f09420ee",
   "metadata": {},
   "source": [
    "-----------------------------------------------------------------CHECKPOINT------------------------------------------------------------------"
   ]
  },
  {
   "cell_type": "code",
   "execution_count": 162,
   "id": "01afac64-1b3c-412f-bf4c-c2571c8cc075",
   "metadata": {},
   "outputs": [],
   "source": [
    "games = statsapi.schedule(start_date='01/01/2025', end_date='08/31/2025')"
   ]
  },
  {
   "cell_type": "code",
   "execution_count": 166,
   "id": "566b5b81-8a3e-411d-afd1-06c54e7e53bd",
   "metadata": {},
   "outputs": [],
   "source": [
    "games = pd.DataFrame(games)"
   ]
  },
  {
   "cell_type": "code",
   "execution_count": 170,
   "id": "cf3be89c-ed49-461b-80d4-9597c615ab44",
   "metadata": {},
   "outputs": [],
   "source": [
    "games[\"game_datetime\"] = pd.to_datetime(games[\"game_datetime\"])"
   ]
  },
  {
   "cell_type": "code",
   "execution_count": 176,
   "id": "60da32cb-9b6a-4679-8afd-da46e443e386",
   "metadata": {},
   "outputs": [],
   "source": [
    "games[\"home_win\"] = (games[\"home_score\"] > games[\"away_score\"]).astype(int)\n",
    "games[\"away_win\"] = (games[\"away_score\"] > games[\"home_score\"]).astype(int)\n",
    "\n",
    "home_df = games[[\"game_id\", \"game_datetime\", \"home_name\", \"home_win\"]].rename(\n",
    "    columns={\"home_name\": \"team\", \"home_win\": \"result\", \"game_datetime\": \"date\"}\n",
    ")\n",
    "away_df = games[[\"game_id\", \"game_datetime\", \"away_name\", \"away_win\"]].rename(\n",
    "    columns={\"away_name\": \"team\", \"away_win\": \"result\", \"game_datetime\": \"date\"}\n",
    ")\n",
    "\n",
    "df = pd.concat([home_df, away_df], ignore_index=True)\n",
    "df = df.sort_values([\"team\", \"date\"]).reset_index(drop=True)"
   ]
  },
  {
   "cell_type": "code",
   "execution_count": 178,
   "id": "0e76c00d-6bf2-46be-b0c2-e1291d88bc1a",
   "metadata": {},
   "outputs": [],
   "source": [
    "df[\"last_7win_pct\"] = None\n",
    "for team, group in df.groupby(\"team\"):\n",
    "    shifted = group[\"result\"].shift()\n",
    "    win_pct = shifted.rolling(window=7).mean()\n",
    "    df.loc[group.index, \"last_7win_pct\"] = win_pct"
   ]
  },
  {
   "cell_type": "code",
   "execution_count": 182,
   "id": "296bcd81-3b3f-4f3b-b7bc-4bc6fba7d7a8",
   "metadata": {},
   "outputs": [],
   "source": [
    "def compute_streak(results):\n",
    "    streaks = []\n",
    "    streak = 0\n",
    "    for result in results:\n",
    "        if result == 1: \n",
    "            streak = streak + 1 if streak > 0 else 1\n",
    "        else:\n",
    "            streak = streak - 1 if streak < 0 else -1\n",
    "        streaks.append(streak)\n",
    "    return streaks"
   ]
  },
  {
   "cell_type": "code",
   "execution_count": 184,
   "id": "0b3a0ebd-893e-4b8e-80ec-792d3958698e",
   "metadata": {},
   "outputs": [],
   "source": [
    "df[\"streak\"] = None\n",
    "for team,group in df.groupby(\"team\"):\n",
    "    streaks = compute_streak(group[\"result\"].tolist())\n",
    "    df.loc[group.index, \"streak\"] = streaks"
   ]
  },
  {
   "cell_type": "code",
   "execution_count": 186,
   "id": "241edacb-5d3d-4e77-8911-ba6219368b58",
   "metadata": {},
   "outputs": [
    {
     "data": {
      "text/html": [
       "<div>\n",
       "<style scoped>\n",
       "    .dataframe tbody tr th:only-of-type {\n",
       "        vertical-align: middle;\n",
       "    }\n",
       "\n",
       "    .dataframe tbody tr th {\n",
       "        vertical-align: top;\n",
       "    }\n",
       "\n",
       "    .dataframe thead th {\n",
       "        text-align: right;\n",
       "    }\n",
       "</style>\n",
       "<table border=\"1\" class=\"dataframe\">\n",
       "  <thead>\n",
       "    <tr style=\"text-align: right;\">\n",
       "      <th></th>\n",
       "      <th>game_id</th>\n",
       "      <th>date</th>\n",
       "      <th>team</th>\n",
       "      <th>result</th>\n",
       "      <th>last_7win_pct</th>\n",
       "      <th>streak</th>\n",
       "    </tr>\n",
       "  </thead>\n",
       "  <tbody>\n",
       "    <tr>\n",
       "      <th>0</th>\n",
       "      <td>778566</td>\n",
       "      <td>2025-07-16 00:00:00+00:00</td>\n",
       "      <td>American League All-Stars</td>\n",
       "      <td>0</td>\n",
       "      <td>NaN</td>\n",
       "      <td>-1</td>\n",
       "    </tr>\n",
       "    <tr>\n",
       "      <th>1</th>\n",
       "      <td>787940</td>\n",
       "      <td>2025-02-21 20:10:00+00:00</td>\n",
       "      <td>Arizona Diamondbacks</td>\n",
       "      <td>0</td>\n",
       "      <td>NaN</td>\n",
       "      <td>-1</td>\n",
       "    </tr>\n",
       "    <tr>\n",
       "      <th>2</th>\n",
       "      <td>778808</td>\n",
       "      <td>2025-02-22 20:10:00+00:00</td>\n",
       "      <td>Arizona Diamondbacks</td>\n",
       "      <td>0</td>\n",
       "      <td>NaN</td>\n",
       "      <td>-2</td>\n",
       "    </tr>\n",
       "    <tr>\n",
       "      <th>3</th>\n",
       "      <td>779020</td>\n",
       "      <td>2025-02-23 20:10:00+00:00</td>\n",
       "      <td>Arizona Diamondbacks</td>\n",
       "      <td>0</td>\n",
       "      <td>NaN</td>\n",
       "      <td>-3</td>\n",
       "    </tr>\n",
       "    <tr>\n",
       "      <th>4</th>\n",
       "      <td>778806</td>\n",
       "      <td>2025-02-24 20:10:00+00:00</td>\n",
       "      <td>Arizona Diamondbacks</td>\n",
       "      <td>1</td>\n",
       "      <td>NaN</td>\n",
       "      <td>1</td>\n",
       "    </tr>\n",
       "    <tr>\n",
       "      <th>...</th>\n",
       "      <td>...</td>\n",
       "      <td>...</td>\n",
       "      <td>...</td>\n",
       "      <td>...</td>\n",
       "      <td>...</td>\n",
       "      <td>...</td>\n",
       "    </tr>\n",
       "    <tr>\n",
       "      <th>5143</th>\n",
       "      <td>776588</td>\n",
       "      <td>2025-08-26 23:05:00+00:00</td>\n",
       "      <td>Washington Nationals</td>\n",
       "      <td>0</td>\n",
       "      <td>0.428571</td>\n",
       "      <td>-4</td>\n",
       "    </tr>\n",
       "    <tr>\n",
       "      <th>5144</th>\n",
       "      <td>776570</td>\n",
       "      <td>2025-08-27 17:05:00+00:00</td>\n",
       "      <td>Washington Nationals</td>\n",
       "      <td>0</td>\n",
       "      <td>0.428571</td>\n",
       "      <td>-5</td>\n",
       "    </tr>\n",
       "    <tr>\n",
       "      <th>5145</th>\n",
       "      <td>776545</td>\n",
       "      <td>2025-08-29 22:45:00+00:00</td>\n",
       "      <td>Washington Nationals</td>\n",
       "      <td>0</td>\n",
       "      <td>0.285714</td>\n",
       "      <td>-6</td>\n",
       "    </tr>\n",
       "    <tr>\n",
       "      <th>5146</th>\n",
       "      <td>776525</td>\n",
       "      <td>2025-08-30 20:05:00+00:00</td>\n",
       "      <td>Washington Nationals</td>\n",
       "      <td>0</td>\n",
       "      <td>0.142857</td>\n",
       "      <td>-7</td>\n",
       "    </tr>\n",
       "    <tr>\n",
       "      <th>5147</th>\n",
       "      <td>776520</td>\n",
       "      <td>2025-08-31 17:35:00+00:00</td>\n",
       "      <td>Washington Nationals</td>\n",
       "      <td>0</td>\n",
       "      <td>0.0</td>\n",
       "      <td>-8</td>\n",
       "    </tr>\n",
       "  </tbody>\n",
       "</table>\n",
       "<p>5148 rows × 6 columns</p>\n",
       "</div>"
      ],
      "text/plain": [
       "      game_id                      date                       team  result  \\\n",
       "0      778566 2025-07-16 00:00:00+00:00  American League All-Stars       0   \n",
       "1      787940 2025-02-21 20:10:00+00:00       Arizona Diamondbacks       0   \n",
       "2      778808 2025-02-22 20:10:00+00:00       Arizona Diamondbacks       0   \n",
       "3      779020 2025-02-23 20:10:00+00:00       Arizona Diamondbacks       0   \n",
       "4      778806 2025-02-24 20:10:00+00:00       Arizona Diamondbacks       1   \n",
       "...       ...                       ...                        ...     ...   \n",
       "5143   776588 2025-08-26 23:05:00+00:00       Washington Nationals       0   \n",
       "5144   776570 2025-08-27 17:05:00+00:00       Washington Nationals       0   \n",
       "5145   776545 2025-08-29 22:45:00+00:00       Washington Nationals       0   \n",
       "5146   776525 2025-08-30 20:05:00+00:00       Washington Nationals       0   \n",
       "5147   776520 2025-08-31 17:35:00+00:00       Washington Nationals       0   \n",
       "\n",
       "     last_7win_pct streak  \n",
       "0              NaN     -1  \n",
       "1              NaN     -1  \n",
       "2              NaN     -2  \n",
       "3              NaN     -3  \n",
       "4              NaN      1  \n",
       "...            ...    ...  \n",
       "5143      0.428571     -4  \n",
       "5144      0.428571     -5  \n",
       "5145      0.285714     -6  \n",
       "5146      0.142857     -7  \n",
       "5147           0.0     -8  \n",
       "\n",
       "[5148 rows x 6 columns]"
      ]
     },
     "execution_count": 186,
     "metadata": {},
     "output_type": "execute_result"
    }
   ],
   "source": [
    "df"
   ]
  },
  {
   "cell_type": "code",
   "execution_count": 188,
   "id": "b0862b03-913c-409f-afdc-26a47f209d75",
   "metadata": {},
   "outputs": [],
   "source": [
    "df = df.drop_duplicates(subset=[\"game_id\", \"team\"])\n",
    "\n",
    "home = df.rename(columns={\n",
    "    \"last_7win_pct\": \"home_last7_win_pct\",\n",
    "    \"streak\": \"home_streak\"})[[\"game_id\", \"team\", \"home_last7_win_pct\", \"home_streak\"]]\n",
    "\n",
    "away = df.rename(columns={\n",
    "    \"last_7win_pct\": \"away_last7_win_pct\",\n",
    "    \"streak\": \"away_streak\"})[[\"game_id\", \"team\", \"away_last7_win_pct\", \"away_streak\"]]\n"
   ]
  },
  {
   "cell_type": "code",
   "execution_count": 196,
   "id": "c5be8245-f957-4702-8180-83dc8e617841",
   "metadata": {},
   "outputs": [],
   "source": [
    "final_df = pd.read_csv(\"../data/final_game_logs_2025.csv\")"
   ]
  },
  {
   "cell_type": "code",
   "execution_count": 198,
   "id": "9997736a-da01-4580-b20d-6928075fc392",
   "metadata": {},
   "outputs": [],
   "source": [
    "final_df = final_df.merge(\n",
    "    home, \n",
    "    left_on=[\"game_id\", \"home_name\"], \n",
    "    right_on=[\"game_id\", \"team\"], \n",
    "    how=\"left\"\n",
    ").drop(columns=[\"team\"])\n",
    "\n",
    "final_df = final_df.merge(\n",
    "    away, \n",
    "    left_on=[\"game_id\", \"away_name\"], \n",
    "    right_on=[\"game_id\", \"team\"], \n",
    "    how=\"left\"\n",
    ").drop(columns=[\"team\"])"
   ]
  },
  {
   "cell_type": "code",
   "execution_count": 202,
   "id": "66c2190e-9e55-404c-bd95-c6efe76264ae",
   "metadata": {},
   "outputs": [],
   "source": [
    "final_df.to_csv(\"../data/final_game_logs_2025.csv\", index=False)"
   ]
  },
  {
   "cell_type": "code",
   "execution_count": 212,
   "id": "86fc9a71-d9d6-4bc3-bd11-f54030f41852",
   "metadata": {},
   "outputs": [],
   "source": [
    "import re\n",
    "condition_cols = [col for col in game_logs.columns if col.startswith(\"condition_\")]\n",
    "condition_cols.sort()\n",
    "rename_map = {old: f\"condition_{i}\" for i, old in enumerate(condition_cols)}\n",
    "final_df.rename(columns=rename_map, inplace=True)"
   ]
  },
  {
   "cell_type": "code",
   "execution_count": 216,
   "id": "024f8b4b-6045-48d7-8650-f5c6cb609029",
   "metadata": {},
   "outputs": [],
   "source": [
    "final_df[\"wind_x\"] = (\n",
    "    final_df[\"wind\"]\n",
    "    .astype(str)\n",
    "    .str.extract(r\"(\\d+)\")\n",
    "    .astype(float)\n",
    ")"
   ]
  },
  {
   "cell_type": "code",
   "execution_count": 222,
   "id": "312e5cc4-83d7-4fd4-8f94-d013075e8cd6",
   "metadata": {},
   "outputs": [],
   "source": [
    "final_df.rename(columns={'temp' : 'temp_x'}, inplace=True)"
   ]
  },
  {
   "cell_type": "code",
   "execution_count": 226,
   "id": "78cb9d92-7bd0-4d05-830c-7bb350cef88f",
   "metadata": {},
   "outputs": [],
   "source": [
    "original_df = pd.read_csv(\"../data/final_game_logs.csv\")"
   ]
  },
  {
   "cell_type": "code",
   "execution_count": 230,
   "id": "85d487f5-180d-4b77-8613-5fca0ba55d71",
   "metadata": {},
   "outputs": [],
   "source": [
    "original_features = [col for col in original_df.columns if col not in [\"target\", \"result\", \"win\"]]\n",
    "final_df = final_df.reindex(columns=original_features, fill_value=0)"
   ]
  },
  {
   "cell_type": "code",
   "execution_count": 234,
   "id": "950a3d70-4656-409e-be3f-f5c7e5cb3d22",
   "metadata": {},
   "outputs": [],
   "source": [
    "final_df.to_csv(\"../data/final_game_logs_2025.csv\", index=False)"
   ]
  },
  {
   "cell_type": "code",
   "execution_count": null,
   "id": "412fc08b-9223-426a-a8d8-36d59cee6245",
   "metadata": {},
   "outputs": [],
   "source": []
  }
 ],
 "metadata": {
  "kernelspec": {
   "display_name": "Python 3 (ipykernel)",
   "language": "python",
   "name": "python3"
  },
  "language_info": {
   "codemirror_mode": {
    "name": "ipython",
    "version": 3
   },
   "file_extension": ".py",
   "mimetype": "text/x-python",
   "name": "python",
   "nbconvert_exporter": "python",
   "pygments_lexer": "ipython3",
   "version": "3.12.4"
  }
 },
 "nbformat": 4,
 "nbformat_minor": 5
}
