{
 "cells": [
  {
   "cell_type": "code",
   "execution_count": 2,
   "metadata": {},
   "outputs": [],
   "source": [
    "import statsapi\n",
    "from pybaseball import pitching_stats\n",
    "from pybaseball import batting_stats\n",
    "import pandas as pd\n"
   ]
  },
  {
   "cell_type": "code",
   "execution_count": 60,
   "metadata": {},
   "outputs": [],
   "source": [
    "game_logs_2024 = statsapi.schedule(start_date='01/01/2024', end_date='12/31/2024')\n",
    "game_logs_2024 = pd.DataFrame(game_logs_2024)\n",
    "game_logs_2024.to_csv(\"../data/game_logs_2024.csv\", index=False)"
   ]
  },
  {
   "cell_type": "code",
   "execution_count": 7,
   "metadata": {},
   "outputs": [],
   "source": [
    "pitching_stats_2024 = pitching_stats(2024)\n",
    "batting_stats_2024 = batting_stats(2024)\n",
    "\n",
    "pitching_stats_2024.to_csv(\"../data/pitching_stats_2024.csv\", index=False)\n",
    "batting_stats_2024.to_csv(\"../data/batting_stats_2024.csv\", index=False)"
   ]
  }
 ],
 "metadata": {
  "kernelspec": {
   "display_name": "base",
   "language": "python",
   "name": "python3"
  },
  "language_info": {
   "codemirror_mode": {
    "name": "ipython",
    "version": 3
   },
   "file_extension": ".py",
   "mimetype": "text/x-python",
   "name": "python",
   "nbconvert_exporter": "python",
   "pygments_lexer": "ipython3",
   "version": "3.12.4"
  }
 },
 "nbformat": 4,
 "nbformat_minor": 2
}
